{
 "cells": [
  {
   "cell_type": "code",
   "execution_count": null,
   "metadata": {},
   "outputs": [],
   "source": [
    "import altair as alt\n",
    "import numpy as np\n",
    "import pandas as pd\n",
    "import requests\n",
    "import yaml"
   ]
  },
  {
   "cell_type": "code",
   "execution_count": null,
   "metadata": {},
   "outputs": [],
   "source": [
    "url = \"https://api.ies.ed.gov/eric/\"\n",
    "\n",
    "\n",
    "def load_data(query):\n",
    "\n",
    "    df_dict = {}\n",
    "    for year in range(1990, 2021):\n",
    "        query_final = query + str(year)\n",
    "        querystring = {\n",
    "            \"search\": query_final,\n",
    "            \"format\": \"json\",\n",
    "        }\n",
    "        response = requests.request(\"GET\", url, params=querystring)\n",
    "        text = yaml.safe_load(response.text)\n",
    "        df_dict[year] = int(text[\"response\"][\"numFound\"])\n",
    "\n",
    "    df = pd.DataFrame(list(df_dict.items()), columns=[\"Year\", \"Articles\"])\n",
    "    return df"
   ]
  },
  {
   "cell_type": "code",
   "execution_count": null,
   "metadata": {},
   "outputs": [],
   "source": [
    "query_old = \"data science\"\n",
    "query = '(title:\"' + query_old + '\" OR description:\"' + query_old + '\") AND peerreviewed:T AND publicationdateyear:'\n",
    "df4 = load_data(query)\n",
    "df4[\"Domain\"] = query_old"
   ]
  },
  {
   "cell_type": "code",
   "execution_count": null,
   "metadata": {},
   "outputs": [],
   "source": [
    "query_old = \"learning analytics\"\n",
    "query = '(title:\"' + query_old + '\" OR description:\"' + query_old + '\") AND peerreviewed:T AND publicationdateyear:'\n",
    "df5 = load_data(query)\n",
    "df5[\"Domain\"] = query_old"
   ]
  },
  {
   "cell_type": "code",
   "execution_count": null,
   "metadata": {},
   "outputs": [],
   "source": [
    "query_old = \"data mining\"\n",
    "query = '(title:\"' + query_old + '\" OR description:\"' + query_old + '\") AND peerreviewed:T AND publicationdateyear:'\n",
    "df6 = load_data(query)\n",
    "df6[\"Domain\"] = query_old"
   ]
  },
  {
   "cell_type": "code",
   "execution_count": null,
   "metadata": {},
   "outputs": [],
   "source": [
    "query_old = \"artificial intelligence\"\n",
    "query = '(title:\"' + query_old + '\" OR description:\"' + query_old + '\") AND peerreviewed:T AND publicationdateyear:'\n",
    "df7 = load_data(query)\n",
    "df7[\"Domain\"] = query_old"
   ]
  },
  {
   "cell_type": "code",
   "execution_count": null,
   "metadata": {},
   "outputs": [],
   "source": [
    "query_old = \"natural language processing\"\n",
    "query = '(title:\"' + query_old + '\" OR description:\"' + query_old + '\") AND peerreviewed:T AND publicationdateyear:'\n",
    "df8 = load_data(query)\n",
    "df8[\"Domain\"] = query_old"
   ]
  },
  {
   "cell_type": "code",
   "execution_count": null,
   "metadata": {},
   "outputs": [],
   "source": [
    "query_old = \"machine learning\"\n",
    "query = '(title:\"' + query_old + '\" OR description:\"' + query_old + '\") AND peerreviewed:T AND publicationdateyear:'\n",
    "df9 = load_data(query)\n",
    "df9[\"Domain\"] = query_old"
   ]
  },
  {
   "cell_type": "code",
   "execution_count": null,
   "metadata": {},
   "outputs": [],
   "source": [
    "query_old = \"big data\"\n",
    "query = '(title:\"' + query_old + '\" OR description:\"' + query_old + '\") AND peerreviewed:T AND publicationdateyear:'\n",
    "df10 = load_data(query)\n",
    "df10[\"Domain\"] = query_old"
   ]
  },
  {
   "cell_type": "code",
   "execution_count": null,
   "metadata": {},
   "outputs": [],
   "source": [
    "df = (\n",
    "    df4.append(df5)\n",
    "    .append(df6)\n",
    "    .append(df7)\n",
    "    .append(df8)\n",
    "    .append(df9)\n",
    "    .append(df10)\n",
    ")\n",
    "df.to_csv(\"jl_output.csv\", encoding='utf-8', index=False)"
   ]
  },
  {
   "cell_type": "code",
   "execution_count": null,
   "metadata": {},
   "outputs": [],
   "source": [
    "query"
   ]
  },
  {
   "cell_type": "code",
   "execution_count": null,
   "metadata": {},
   "outputs": [],
   "source": [
    "alt.Chart(df).mark_line().encode(\n",
    "    x=\"Year:Q\",\n",
    "    y=\"Articles:Q\",\n",
    "    tooltip=[\"Articles\"],\n",
    "    color=\"Domain\",\n",
    "    strokeDash=\"Domain\",\n",
    ")"
   ]
  },
  {
   "cell_type": "code",
   "execution_count": null,
   "metadata": {},
   "outputs": [],
   "source": []
  }
 ],
 "metadata": {
  "kernelspec": {
   "display_name": "Python 3 (ipykernel)",
   "language": "python",
   "name": "python3"
  },
  "language_info": {
   "codemirror_mode": {
    "name": "ipython",
    "version": 3
   },
   "file_extension": ".py",
   "mimetype": "text/x-python",
   "name": "python",
   "nbconvert_exporter": "python",
   "pygments_lexer": "ipython3",
   "version": "3.9.9"
  }
 },
 "nbformat": 4,
 "nbformat_minor": 4
}
