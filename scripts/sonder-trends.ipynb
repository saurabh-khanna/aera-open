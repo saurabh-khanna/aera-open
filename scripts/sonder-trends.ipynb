{
 "cells": [
  {
   "cell_type": "code",
   "execution_count": 1,
   "metadata": {},
   "outputs": [],
   "source": [
    "import altair as alt\n",
    "import numpy as np\n",
    "import pandas as pd\n",
    "import requests\n",
    "import yaml"
   ]
  },
  {
   "cell_type": "code",
   "execution_count": 2,
   "metadata": {},
   "outputs": [],
   "source": [
    "url = \"https://api.ies.ed.gov/eric/\"\n",
    "\n",
    "\n",
    "def load_data(query):\n",
    "\n",
    "    df_dict = {}\n",
    "    for year in range(1990, 2021):\n",
    "        query_final = query + str(year)\n",
    "        querystring = {\n",
    "            \"search\": query_final,\n",
    "            \"format\": \"json\",\n",
    "        }\n",
    "        response = requests.request(\"GET\", url, params=querystring)\n",
    "        text = yaml.safe_load(response.text)\n",
    "        df_dict[year] = int(text[\"response\"][\"numFound\"])\n",
    "\n",
    "    df = pd.DataFrame(list(df_dict.items()), columns=[\"Year\", \"Articles\"])\n",
    "    return df"
   ]
  },
  {
   "cell_type": "code",
   "execution_count": 3,
   "metadata": {},
   "outputs": [],
   "source": [
    "query_old = \"psychometrics\"\n",
    "query = \" \".join(query_old.split())\n",
    "query = query.replace(\" \", \" AND \")\n",
    "query = query + \" AND peerreviewed:T AND publicationdateyear:\"\n",
    "df1 = load_data(query)\n",
    "df1[\"Domain\"] = query_old"
   ]
  },
  {
   "cell_type": "code",
   "execution_count": 4,
   "metadata": {},
   "outputs": [],
   "source": [
    "query_old = \"ethnography\"\n",
    "query = \" \".join(query_old.split())\n",
    "query = query.replace(\" \", \" AND \")\n",
    "query = query + \" AND peerreviewed:T AND publicationdateyear:\"\n",
    "df2 = load_data(query)\n",
    "df2[\"Domain\"] = query_old"
   ]
  },
  {
   "cell_type": "code",
   "execution_count": 5,
   "metadata": {},
   "outputs": [],
   "source": [
    "query_old = \"anthropology\"\n",
    "query = \" \".join(query_old.split())\n",
    "query = query.replace(\" \", \" AND \")\n",
    "query = query + \" AND peerreviewed:T AND publicationdateyear:\"\n",
    "df3 = load_data(query)\n",
    "df3[\"Domain\"] = query_old"
   ]
  },
  {
   "cell_type": "code",
   "execution_count": 6,
   "metadata": {},
   "outputs": [],
   "source": [
    "query_old = \"data science\"\n",
    "query = \" \".join(query_old.split())\n",
    "query = query.replace(\" \", \" AND \")\n",
    "query = query + \" AND peerreviewed:T AND publicationdateyear:\"\n",
    "df4 = load_data(query)\n",
    "df4[\"Domain\"] = query_old"
   ]
  },
  {
   "cell_type": "code",
   "execution_count": 7,
   "metadata": {},
   "outputs": [],
   "source": [
    "query_old = \"learning analytics\"\n",
    "query = \" \".join(query_old.split())\n",
    "query = query.replace(\" \", \" AND \")\n",
    "query = query + \" AND peerreviewed:T AND publicationdateyear:\"\n",
    "df5 = load_data(query)\n",
    "df5[\"Domain\"] = query_old"
   ]
  },
  {
   "cell_type": "code",
   "execution_count": 8,
   "metadata": {},
   "outputs": [],
   "source": [
    "query_old = \"data mining\"\n",
    "query = \" \".join(query_old.split())\n",
    "query = query.replace(\" \", \" AND \")\n",
    "query = query + \" AND peerreviewed:T AND publicationdateyear:\"\n",
    "df6 = load_data(query)\n",
    "df6[\"Domain\"] = query_old"
   ]
  },
  {
   "cell_type": "code",
   "execution_count": 9,
   "metadata": {},
   "outputs": [],
   "source": [
    "query_old = \"artificial intelligence\"\n",
    "query = \" \".join(query_old.split())\n",
    "query = query.replace(\" \", \" AND \")\n",
    "query = query + \" AND peerreviewed:T AND publicationdateyear:\"\n",
    "df7 = load_data(query)\n",
    "df7[\"Domain\"] = query_old"
   ]
  },
  {
   "cell_type": "code",
   "execution_count": 10,
   "metadata": {},
   "outputs": [],
   "source": [
    "query_old = \"natural language processing\"\n",
    "query = \" \".join(query_old.split())\n",
    "query = query.replace(\" \", \" AND \")\n",
    "query = query + \" AND peerreviewed:T AND publicationdateyear:\"\n",
    "df8 = load_data(query)\n",
    "df8[\"Domain\"] = query_old"
   ]
  },
  {
   "cell_type": "code",
   "execution_count": 11,
   "metadata": {},
   "outputs": [],
   "source": [
    "query_old = \"machine learning\"\n",
    "query = \" \".join(query_old.split())\n",
    "query = query.replace(\" \", \" AND \")\n",
    "query = query + \" AND peerreviewed:T AND publicationdateyear:\"\n",
    "df9 = load_data(query)\n",
    "df9[\"Domain\"] = query_old"
   ]
  },
  {
   "cell_type": "code",
   "execution_count": 12,
   "metadata": {},
   "outputs": [],
   "source": [
    "query_old = \"big data\"\n",
    "query = \" \".join(query_old.split())\n",
    "query = query.replace(\" \", \" AND \")\n",
    "query = query + \" AND peerreviewed:T AND publicationdateyear:\"\n",
    "df10 = load_data(query)\n",
    "df10[\"Domain\"] = query_old"
   ]
  },
  {
   "cell_type": "code",
   "execution_count": 24,
   "metadata": {},
   "outputs": [
    {
     "data": {
      "text/html": [
       "<div>\n",
       "<style scoped>\n",
       "    .dataframe tbody tr th:only-of-type {\n",
       "        vertical-align: middle;\n",
       "    }\n",
       "\n",
       "    .dataframe tbody tr th {\n",
       "        vertical-align: top;\n",
       "    }\n",
       "\n",
       "    .dataframe thead th {\n",
       "        text-align: right;\n",
       "    }\n",
       "</style>\n",
       "<table border=\"1\" class=\"dataframe\">\n",
       "  <thead>\n",
       "    <tr style=\"text-align: right;\">\n",
       "      <th></th>\n",
       "      <th>Year</th>\n",
       "      <th>Articles</th>\n",
       "      <th>Domain</th>\n",
       "    </tr>\n",
       "  </thead>\n",
       "  <tbody>\n",
       "    <tr>\n",
       "      <th>0</th>\n",
       "      <td>1990</td>\n",
       "      <td>39</td>\n",
       "      <td>psychometrics</td>\n",
       "    </tr>\n",
       "    <tr>\n",
       "      <th>1</th>\n",
       "      <td>1991</td>\n",
       "      <td>45</td>\n",
       "      <td>psychometrics</td>\n",
       "    </tr>\n",
       "    <tr>\n",
       "      <th>2</th>\n",
       "      <td>1992</td>\n",
       "      <td>56</td>\n",
       "      <td>psychometrics</td>\n",
       "    </tr>\n",
       "    <tr>\n",
       "      <th>3</th>\n",
       "      <td>1993</td>\n",
       "      <td>51</td>\n",
       "      <td>psychometrics</td>\n",
       "    </tr>\n",
       "    <tr>\n",
       "      <th>4</th>\n",
       "      <td>1994</td>\n",
       "      <td>72</td>\n",
       "      <td>psychometrics</td>\n",
       "    </tr>\n",
       "    <tr>\n",
       "      <th>...</th>\n",
       "      <td>...</td>\n",
       "      <td>...</td>\n",
       "      <td>...</td>\n",
       "    </tr>\n",
       "    <tr>\n",
       "      <th>26</th>\n",
       "      <td>2016</td>\n",
       "      <td>103</td>\n",
       "      <td>big data</td>\n",
       "    </tr>\n",
       "    <tr>\n",
       "      <th>27</th>\n",
       "      <td>2017</td>\n",
       "      <td>99</td>\n",
       "      <td>big data</td>\n",
       "    </tr>\n",
       "    <tr>\n",
       "      <th>28</th>\n",
       "      <td>2018</td>\n",
       "      <td>90</td>\n",
       "      <td>big data</td>\n",
       "    </tr>\n",
       "    <tr>\n",
       "      <th>29</th>\n",
       "      <td>2019</td>\n",
       "      <td>86</td>\n",
       "      <td>big data</td>\n",
       "    </tr>\n",
       "    <tr>\n",
       "      <th>30</th>\n",
       "      <td>2020</td>\n",
       "      <td>112</td>\n",
       "      <td>big data</td>\n",
       "    </tr>\n",
       "  </tbody>\n",
       "</table>\n",
       "<p>310 rows × 3 columns</p>\n",
       "</div>"
      ],
      "text/plain": [
       "    Year  Articles         Domain\n",
       "0   1990        39  psychometrics\n",
       "1   1991        45  psychometrics\n",
       "2   1992        56  psychometrics\n",
       "3   1993        51  psychometrics\n",
       "4   1994        72  psychometrics\n",
       "..   ...       ...            ...\n",
       "26  2016       103       big data\n",
       "27  2017        99       big data\n",
       "28  2018        90       big data\n",
       "29  2019        86       big data\n",
       "30  2020       112       big data\n",
       "\n",
       "[310 rows x 3 columns]"
      ]
     },
     "execution_count": 24,
     "metadata": {},
     "output_type": "execute_result"
    }
   ],
   "source": [
    "df = (\n",
    "    df1.append(df2)\n",
    "    .append(df3)\n",
    "    .append(df4)\n",
    "    .append(df5)\n",
    "    .append(df6)\n",
    "    .append(df7)\n",
    "    .append(df8)\n",
    "    .append(df9)\n",
    "    .append(df10)\n",
    ")\n",
    "df"
   ]
  },
  {
   "cell_type": "code",
   "execution_count": 28,
   "metadata": {},
   "outputs": [
    {
     "data": {
      "text/html": [
       "\n",
       "<div id=\"altair-viz-803fa73cd78c42c39c49d9e7ba63c1cf\"></div>\n",
       "<script type=\"text/javascript\">\n",
       "  (function(spec, embedOpt){\n",
       "    let outputDiv = document.currentScript.previousElementSibling;\n",
       "    if (outputDiv.id !== \"altair-viz-803fa73cd78c42c39c49d9e7ba63c1cf\") {\n",
       "      outputDiv = document.getElementById(\"altair-viz-803fa73cd78c42c39c49d9e7ba63c1cf\");\n",
       "    }\n",
       "    const paths = {\n",
       "      \"vega\": \"https://cdn.jsdelivr.net/npm//vega@5?noext\",\n",
       "      \"vega-lib\": \"https://cdn.jsdelivr.net/npm//vega-lib?noext\",\n",
       "      \"vega-lite\": \"https://cdn.jsdelivr.net/npm//vega-lite@4.8.1?noext\",\n",
       "      \"vega-embed\": \"https://cdn.jsdelivr.net/npm//vega-embed@6?noext\",\n",
       "    };\n",
       "\n",
       "    function loadScript(lib) {\n",
       "      return new Promise(function(resolve, reject) {\n",
       "        var s = document.createElement('script');\n",
       "        s.src = paths[lib];\n",
       "        s.async = true;\n",
       "        s.onload = () => resolve(paths[lib]);\n",
       "        s.onerror = () => reject(`Error loading script: ${paths[lib]}`);\n",
       "        document.getElementsByTagName(\"head\")[0].appendChild(s);\n",
       "      });\n",
       "    }\n",
       "\n",
       "    function showError(err) {\n",
       "      outputDiv.innerHTML = `<div class=\"error\" style=\"color:red;\">${err}</div>`;\n",
       "      throw err;\n",
       "    }\n",
       "\n",
       "    function displayChart(vegaEmbed) {\n",
       "      vegaEmbed(outputDiv, spec, embedOpt)\n",
       "        .catch(err => showError(`Javascript Error: ${err.message}<br>This usually means there's a typo in your chart specification. See the javascript console for the full traceback.`));\n",
       "    }\n",
       "\n",
       "    if(typeof define === \"function\" && define.amd) {\n",
       "      requirejs.config({paths});\n",
       "      require([\"vega-embed\"], displayChart, err => showError(`Error loading script: ${err.message}`));\n",
       "    } else if (typeof vegaEmbed === \"function\") {\n",
       "      displayChart(vegaEmbed);\n",
       "    } else {\n",
       "      loadScript(\"vega\")\n",
       "        .then(() => loadScript(\"vega-lite\"))\n",
       "        .then(() => loadScript(\"vega-embed\"))\n",
       "        .catch(showError)\n",
       "        .then(() => displayChart(vegaEmbed));\n",
       "    }\n",
       "  })({\"config\": {\"view\": {\"continuousWidth\": 400, \"continuousHeight\": 300}}, \"data\": {\"name\": \"data-fc5d005dc5687bcdbd2dc1949c39ab31\"}, \"mark\": \"line\", \"encoding\": {\"color\": {\"type\": \"nominal\", \"field\": \"Domain\"}, \"strokeDash\": {\"type\": \"nominal\", \"field\": \"Domain\"}, \"tooltip\": [{\"type\": \"quantitative\", \"field\": \"Articles\"}], \"x\": {\"type\": \"quantitative\", \"field\": \"Year\"}, \"y\": {\"type\": \"quantitative\", \"field\": \"Articles\"}}, \"height\": 900, \"width\": 1200, \"$schema\": \"https://vega.github.io/schema/vega-lite/v4.8.1.json\", \"datasets\": {\"data-fc5d005dc5687bcdbd2dc1949c39ab31\": [{\"Year\": 1990, \"Articles\": 39, \"Domain\": \"psychometrics\"}, {\"Year\": 1991, \"Articles\": 45, \"Domain\": \"psychometrics\"}, {\"Year\": 1992, \"Articles\": 56, \"Domain\": \"psychometrics\"}, {\"Year\": 1993, \"Articles\": 51, \"Domain\": \"psychometrics\"}, {\"Year\": 1994, \"Articles\": 72, \"Domain\": \"psychometrics\"}, {\"Year\": 1995, \"Articles\": 47, \"Domain\": \"psychometrics\"}, {\"Year\": 1996, \"Articles\": 73, \"Domain\": \"psychometrics\"}, {\"Year\": 1997, \"Articles\": 63, \"Domain\": \"psychometrics\"}, {\"Year\": 1998, \"Articles\": 74, \"Domain\": \"psychometrics\"}, {\"Year\": 1999, \"Articles\": 35, \"Domain\": \"psychometrics\"}, {\"Year\": 2000, \"Articles\": 49, \"Domain\": \"psychometrics\"}, {\"Year\": 2001, \"Articles\": 59, \"Domain\": \"psychometrics\"}, {\"Year\": 2002, \"Articles\": 68, \"Domain\": \"psychometrics\"}, {\"Year\": 2003, \"Articles\": 89, \"Domain\": \"psychometrics\"}, {\"Year\": 2004, \"Articles\": 278, \"Domain\": \"psychometrics\"}, {\"Year\": 2005, \"Articles\": 329, \"Domain\": \"psychometrics\"}, {\"Year\": 2006, \"Articles\": 389, \"Domain\": \"psychometrics\"}, {\"Year\": 2007, \"Articles\": 367, \"Domain\": \"psychometrics\"}, {\"Year\": 2008, \"Articles\": 366, \"Domain\": \"psychometrics\"}, {\"Year\": 2009, \"Articles\": 429, \"Domain\": \"psychometrics\"}, {\"Year\": 2010, \"Articles\": 409, \"Domain\": \"psychometrics\"}, {\"Year\": 2011, \"Articles\": 373, \"Domain\": \"psychometrics\"}, {\"Year\": 2012, \"Articles\": 413, \"Domain\": \"psychometrics\"}, {\"Year\": 2013, \"Articles\": 366, \"Domain\": \"psychometrics\"}, {\"Year\": 2014, \"Articles\": 235, \"Domain\": \"psychometrics\"}, {\"Year\": 2015, \"Articles\": 304, \"Domain\": \"psychometrics\"}, {\"Year\": 2016, \"Articles\": 282, \"Domain\": \"psychometrics\"}, {\"Year\": 2017, \"Articles\": 298, \"Domain\": \"psychometrics\"}, {\"Year\": 2018, \"Articles\": 314, \"Domain\": \"psychometrics\"}, {\"Year\": 2019, \"Articles\": 303, \"Domain\": \"psychometrics\"}, {\"Year\": 2020, \"Articles\": 293, \"Domain\": \"psychometrics\"}, {\"Year\": 1990, \"Articles\": 66, \"Domain\": \"ethnography\"}, {\"Year\": 1991, \"Articles\": 47, \"Domain\": \"ethnography\"}, {\"Year\": 1992, \"Articles\": 68, \"Domain\": \"ethnography\"}, {\"Year\": 1993, \"Articles\": 70, \"Domain\": \"ethnography\"}, {\"Year\": 1994, \"Articles\": 57, \"Domain\": \"ethnography\"}, {\"Year\": 1995, \"Articles\": 85, \"Domain\": \"ethnography\"}, {\"Year\": 1996, \"Articles\": 75, \"Domain\": \"ethnography\"}, {\"Year\": 1997, \"Articles\": 91, \"Domain\": \"ethnography\"}, {\"Year\": 1998, \"Articles\": 74, \"Domain\": \"ethnography\"}, {\"Year\": 1999, \"Articles\": 84, \"Domain\": \"ethnography\"}, {\"Year\": 2000, \"Articles\": 58, \"Domain\": \"ethnography\"}, {\"Year\": 2001, \"Articles\": 60, \"Domain\": \"ethnography\"}, {\"Year\": 2002, \"Articles\": 72, \"Domain\": \"ethnography\"}, {\"Year\": 2003, \"Articles\": 68, \"Domain\": \"ethnography\"}, {\"Year\": 2004, \"Articles\": 179, \"Domain\": \"ethnography\"}, {\"Year\": 2005, \"Articles\": 185, \"Domain\": \"ethnography\"}, {\"Year\": 2006, \"Articles\": 267, \"Domain\": \"ethnography\"}, {\"Year\": 2007, \"Articles\": 278, \"Domain\": \"ethnography\"}, {\"Year\": 2008, \"Articles\": 296, \"Domain\": \"ethnography\"}, {\"Year\": 2009, \"Articles\": 347, \"Domain\": \"ethnography\"}, {\"Year\": 2010, \"Articles\": 384, \"Domain\": \"ethnography\"}, {\"Year\": 2011, \"Articles\": 439, \"Domain\": \"ethnography\"}, {\"Year\": 2012, \"Articles\": 480, \"Domain\": \"ethnography\"}, {\"Year\": 2013, \"Articles\": 474, \"Domain\": \"ethnography\"}, {\"Year\": 2014, \"Articles\": 563, \"Domain\": \"ethnography\"}, {\"Year\": 2015, \"Articles\": 602, \"Domain\": \"ethnography\"}, {\"Year\": 2016, \"Articles\": 661, \"Domain\": \"ethnography\"}, {\"Year\": 2017, \"Articles\": 675, \"Domain\": \"ethnography\"}, {\"Year\": 2018, \"Articles\": 558, \"Domain\": \"ethnography\"}, {\"Year\": 2019, \"Articles\": 393, \"Domain\": \"ethnography\"}, {\"Year\": 2020, \"Articles\": 400, \"Domain\": \"ethnography\"}, {\"Year\": 1990, \"Articles\": 62, \"Domain\": \"anthropology\"}, {\"Year\": 1991, \"Articles\": 39, \"Domain\": \"anthropology\"}, {\"Year\": 1992, \"Articles\": 39, \"Domain\": \"anthropology\"}, {\"Year\": 1993, \"Articles\": 44, \"Domain\": \"anthropology\"}, {\"Year\": 1994, \"Articles\": 14, \"Domain\": \"anthropology\"}, {\"Year\": 1995, \"Articles\": 50, \"Domain\": \"anthropology\"}, {\"Year\": 1996, \"Articles\": 49, \"Domain\": \"anthropology\"}, {\"Year\": 1997, \"Articles\": 55, \"Domain\": \"anthropology\"}, {\"Year\": 1998, \"Articles\": 41, \"Domain\": \"anthropology\"}, {\"Year\": 1999, \"Articles\": 58, \"Domain\": \"anthropology\"}, {\"Year\": 2000, \"Articles\": 40, \"Domain\": \"anthropology\"}, {\"Year\": 2001, \"Articles\": 47, \"Domain\": \"anthropology\"}, {\"Year\": 2002, \"Articles\": 46, \"Domain\": \"anthropology\"}, {\"Year\": 2003, \"Articles\": 34, \"Domain\": \"anthropology\"}, {\"Year\": 2004, \"Articles\": 54, \"Domain\": \"anthropology\"}, {\"Year\": 2005, \"Articles\": 64, \"Domain\": \"anthropology\"}, {\"Year\": 2006, \"Articles\": 62, \"Domain\": \"anthropology\"}, {\"Year\": 2007, \"Articles\": 73, \"Domain\": \"anthropology\"}, {\"Year\": 2008, \"Articles\": 66, \"Domain\": \"anthropology\"}, {\"Year\": 2009, \"Articles\": 64, \"Domain\": \"anthropology\"}, {\"Year\": 2010, \"Articles\": 70, \"Domain\": \"anthropology\"}, {\"Year\": 2011, \"Articles\": 74, \"Domain\": \"anthropology\"}, {\"Year\": 2012, \"Articles\": 83, \"Domain\": \"anthropology\"}, {\"Year\": 2013, \"Articles\": 67, \"Domain\": \"anthropology\"}, {\"Year\": 2014, \"Articles\": 64, \"Domain\": \"anthropology\"}, {\"Year\": 2015, \"Articles\": 68, \"Domain\": \"anthropology\"}, {\"Year\": 2016, \"Articles\": 70, \"Domain\": \"anthropology\"}, {\"Year\": 2017, \"Articles\": 67, \"Domain\": \"anthropology\"}, {\"Year\": 2018, \"Articles\": 64, \"Domain\": \"anthropology\"}, {\"Year\": 2019, \"Articles\": 76, \"Domain\": \"anthropology\"}, {\"Year\": 2020, \"Articles\": 70, \"Domain\": \"anthropology\"}, {\"Year\": 1990, \"Articles\": 176, \"Domain\": \"data science\"}, {\"Year\": 1991, \"Articles\": 134, \"Domain\": \"data science\"}, {\"Year\": 1992, \"Articles\": 162, \"Domain\": \"data science\"}, {\"Year\": 1993, \"Articles\": 137, \"Domain\": \"data science\"}, {\"Year\": 1994, \"Articles\": 152, \"Domain\": \"data science\"}, {\"Year\": 1995, \"Articles\": 173, \"Domain\": \"data science\"}, {\"Year\": 1996, \"Articles\": 141, \"Domain\": \"data science\"}, {\"Year\": 1997, \"Articles\": 161, \"Domain\": \"data science\"}, {\"Year\": 1998, \"Articles\": 170, \"Domain\": \"data science\"}, {\"Year\": 1999, \"Articles\": 105, \"Domain\": \"data science\"}, {\"Year\": 2000, \"Articles\": 132, \"Domain\": \"data science\"}, {\"Year\": 2001, \"Articles\": 125, \"Domain\": \"data science\"}, {\"Year\": 2002, \"Articles\": 187, \"Domain\": \"data science\"}, {\"Year\": 2003, \"Articles\": 206, \"Domain\": \"data science\"}, {\"Year\": 2004, \"Articles\": 427, \"Domain\": \"data science\"}, {\"Year\": 2005, \"Articles\": 479, \"Domain\": \"data science\"}, {\"Year\": 2006, \"Articles\": 530, \"Domain\": \"data science\"}, {\"Year\": 2007, \"Articles\": 647, \"Domain\": \"data science\"}, {\"Year\": 2008, \"Articles\": 769, \"Domain\": \"data science\"}, {\"Year\": 2009, \"Articles\": 806, \"Domain\": \"data science\"}, {\"Year\": 2010, \"Articles\": 939, \"Domain\": \"data science\"}, {\"Year\": 2011, \"Articles\": 1020, \"Domain\": \"data science\"}, {\"Year\": 2012, \"Articles\": 1177, \"Domain\": \"data science\"}, {\"Year\": 2013, \"Articles\": 1119, \"Domain\": \"data science\"}, {\"Year\": 2014, \"Articles\": 1117, \"Domain\": \"data science\"}, {\"Year\": 2015, \"Articles\": 1325, \"Domain\": \"data science\"}, {\"Year\": 2016, \"Articles\": 1661, \"Domain\": \"data science\"}, {\"Year\": 2017, \"Articles\": 1580, \"Domain\": \"data science\"}, {\"Year\": 2018, \"Articles\": 1655, \"Domain\": \"data science\"}, {\"Year\": 2019, \"Articles\": 1723, \"Domain\": \"data science\"}, {\"Year\": 2020, \"Articles\": 2009, \"Domain\": \"data science\"}, {\"Year\": 1990, \"Articles\": 1, \"Domain\": \"learning analytics\"}, {\"Year\": 1991, \"Articles\": 1, \"Domain\": \"learning analytics\"}, {\"Year\": 1992, \"Articles\": 0, \"Domain\": \"learning analytics\"}, {\"Year\": 1993, \"Articles\": 0, \"Domain\": \"learning analytics\"}, {\"Year\": 1994, \"Articles\": 0, \"Domain\": \"learning analytics\"}, {\"Year\": 1995, \"Articles\": 0, \"Domain\": \"learning analytics\"}, {\"Year\": 1996, \"Articles\": 0, \"Domain\": \"learning analytics\"}, {\"Year\": 1997, \"Articles\": 0, \"Domain\": \"learning analytics\"}, {\"Year\": 1998, \"Articles\": 0, \"Domain\": \"learning analytics\"}, {\"Year\": 1999, \"Articles\": 0, \"Domain\": \"learning analytics\"}, {\"Year\": 2000, \"Articles\": 0, \"Domain\": \"learning analytics\"}, {\"Year\": 2001, \"Articles\": 0, \"Domain\": \"learning analytics\"}, {\"Year\": 2002, \"Articles\": 0, \"Domain\": \"learning analytics\"}, {\"Year\": 2003, \"Articles\": 0, \"Domain\": \"learning analytics\"}, {\"Year\": 2004, \"Articles\": 1, \"Domain\": \"learning analytics\"}, {\"Year\": 2005, \"Articles\": 0, \"Domain\": \"learning analytics\"}, {\"Year\": 2006, \"Articles\": 3, \"Domain\": \"learning analytics\"}, {\"Year\": 2007, \"Articles\": 1, \"Domain\": \"learning analytics\"}, {\"Year\": 2008, \"Articles\": 4, \"Domain\": \"learning analytics\"}, {\"Year\": 2009, \"Articles\": 6, \"Domain\": \"learning analytics\"}, {\"Year\": 2010, \"Articles\": 5, \"Domain\": \"learning analytics\"}, {\"Year\": 2011, \"Articles\": 8, \"Domain\": \"learning analytics\"}, {\"Year\": 2012, \"Articles\": 19, \"Domain\": \"learning analytics\"}, {\"Year\": 2013, \"Articles\": 24, \"Domain\": \"learning analytics\"}, {\"Year\": 2014, \"Articles\": 66, \"Domain\": \"learning analytics\"}, {\"Year\": 2015, \"Articles\": 85, \"Domain\": \"learning analytics\"}, {\"Year\": 2016, \"Articles\": 123, \"Domain\": \"learning analytics\"}, {\"Year\": 2017, \"Articles\": 148, \"Domain\": \"learning analytics\"}, {\"Year\": 2018, \"Articles\": 155, \"Domain\": \"learning analytics\"}, {\"Year\": 2019, \"Articles\": 207, \"Domain\": \"learning analytics\"}, {\"Year\": 2020, \"Articles\": 261, \"Domain\": \"learning analytics\"}, {\"Year\": 1990, \"Articles\": 2, \"Domain\": \"data mining\"}, {\"Year\": 1991, \"Articles\": 0, \"Domain\": \"data mining\"}, {\"Year\": 1992, \"Articles\": 1, \"Domain\": \"data mining\"}, {\"Year\": 1993, \"Articles\": 0, \"Domain\": \"data mining\"}, {\"Year\": 1994, \"Articles\": 0, \"Domain\": \"data mining\"}, {\"Year\": 1995, \"Articles\": 0, \"Domain\": \"data mining\"}, {\"Year\": 1996, \"Articles\": 0, \"Domain\": \"data mining\"}, {\"Year\": 1997, \"Articles\": 4, \"Domain\": \"data mining\"}, {\"Year\": 1998, \"Articles\": 4, \"Domain\": \"data mining\"}, {\"Year\": 1999, \"Articles\": 4, \"Domain\": \"data mining\"}, {\"Year\": 2000, \"Articles\": 4, \"Domain\": \"data mining\"}, {\"Year\": 2001, \"Articles\": 3, \"Domain\": \"data mining\"}, {\"Year\": 2002, \"Articles\": 10, \"Domain\": \"data mining\"}, {\"Year\": 2003, \"Articles\": 10, \"Domain\": \"data mining\"}, {\"Year\": 2004, \"Articles\": 10, \"Domain\": \"data mining\"}, {\"Year\": 2005, \"Articles\": 13, \"Domain\": \"data mining\"}, {\"Year\": 2006, \"Articles\": 21, \"Domain\": \"data mining\"}, {\"Year\": 2007, \"Articles\": 17, \"Domain\": \"data mining\"}, {\"Year\": 2008, \"Articles\": 19, \"Domain\": \"data mining\"}, {\"Year\": 2009, \"Articles\": 24, \"Domain\": \"data mining\"}, {\"Year\": 2010, \"Articles\": 25, \"Domain\": \"data mining\"}, {\"Year\": 2011, \"Articles\": 32, \"Domain\": \"data mining\"}, {\"Year\": 2012, \"Articles\": 40, \"Domain\": \"data mining\"}, {\"Year\": 2013, \"Articles\": 40, \"Domain\": \"data mining\"}, {\"Year\": 2014, \"Articles\": 36, \"Domain\": \"data mining\"}, {\"Year\": 2015, \"Articles\": 54, \"Domain\": \"data mining\"}, {\"Year\": 2016, \"Articles\": 143, \"Domain\": \"data mining\"}, {\"Year\": 2017, \"Articles\": 129, \"Domain\": \"data mining\"}, {\"Year\": 2018, \"Articles\": 135, \"Domain\": \"data mining\"}, {\"Year\": 2019, \"Articles\": 163, \"Domain\": \"data mining\"}, {\"Year\": 2020, \"Articles\": 147, \"Domain\": \"data mining\"}, {\"Year\": 1990, \"Articles\": 32, \"Domain\": \"artificial intelligence\"}, {\"Year\": 1991, \"Articles\": 19, \"Domain\": \"artificial intelligence\"}, {\"Year\": 1992, \"Articles\": 18, \"Domain\": \"artificial intelligence\"}, {\"Year\": 1993, \"Articles\": 16, \"Domain\": \"artificial intelligence\"}, {\"Year\": 1994, \"Articles\": 22, \"Domain\": \"artificial intelligence\"}, {\"Year\": 1995, \"Articles\": 19, \"Domain\": \"artificial intelligence\"}, {\"Year\": 1996, \"Articles\": 13, \"Domain\": \"artificial intelligence\"}, {\"Year\": 1997, \"Articles\": 10, \"Domain\": \"artificial intelligence\"}, {\"Year\": 1998, \"Articles\": 15, \"Domain\": \"artificial intelligence\"}, {\"Year\": 1999, \"Articles\": 13, \"Domain\": \"artificial intelligence\"}, {\"Year\": 2000, \"Articles\": 7, \"Domain\": \"artificial intelligence\"}, {\"Year\": 2001, \"Articles\": 7, \"Domain\": \"artificial intelligence\"}, {\"Year\": 2002, \"Articles\": 7, \"Domain\": \"artificial intelligence\"}, {\"Year\": 2003, \"Articles\": 12, \"Domain\": \"artificial intelligence\"}, {\"Year\": 2004, \"Articles\": 23, \"Domain\": \"artificial intelligence\"}, {\"Year\": 2005, \"Articles\": 12, \"Domain\": \"artificial intelligence\"}, {\"Year\": 2006, \"Articles\": 16, \"Domain\": \"artificial intelligence\"}, {\"Year\": 2007, \"Articles\": 23, \"Domain\": \"artificial intelligence\"}, {\"Year\": 2008, \"Articles\": 24, \"Domain\": \"artificial intelligence\"}, {\"Year\": 2009, \"Articles\": 50, \"Domain\": \"artificial intelligence\"}, {\"Year\": 2010, \"Articles\": 41, \"Domain\": \"artificial intelligence\"}, {\"Year\": 2011, \"Articles\": 45, \"Domain\": \"artificial intelligence\"}, {\"Year\": 2012, \"Articles\": 42, \"Domain\": \"artificial intelligence\"}, {\"Year\": 2013, \"Articles\": 56, \"Domain\": \"artificial intelligence\"}, {\"Year\": 2014, \"Articles\": 38, \"Domain\": \"artificial intelligence\"}, {\"Year\": 2015, \"Articles\": 46, \"Domain\": \"artificial intelligence\"}, {\"Year\": 2016, \"Articles\": 104, \"Domain\": \"artificial intelligence\"}, {\"Year\": 2017, \"Articles\": 88, \"Domain\": \"artificial intelligence\"}, {\"Year\": 2018, \"Articles\": 93, \"Domain\": \"artificial intelligence\"}, {\"Year\": 2019, \"Articles\": 149, \"Domain\": \"artificial intelligence\"}, {\"Year\": 2020, \"Articles\": 206, \"Domain\": \"artificial intelligence\"}, {\"Year\": 1990, \"Articles\": 14, \"Domain\": \"natural language processing\"}, {\"Year\": 1991, \"Articles\": 4, \"Domain\": \"natural language processing\"}, {\"Year\": 1992, \"Articles\": 4, \"Domain\": \"natural language processing\"}, {\"Year\": 1993, \"Articles\": 9, \"Domain\": \"natural language processing\"}, {\"Year\": 1994, \"Articles\": 6, \"Domain\": \"natural language processing\"}, {\"Year\": 1995, \"Articles\": 11, \"Domain\": \"natural language processing\"}, {\"Year\": 1996, \"Articles\": 10, \"Domain\": \"natural language processing\"}, {\"Year\": 1997, \"Articles\": 7, \"Domain\": \"natural language processing\"}, {\"Year\": 1998, \"Articles\": 13, \"Domain\": \"natural language processing\"}, {\"Year\": 1999, \"Articles\": 5, \"Domain\": \"natural language processing\"}, {\"Year\": 2000, \"Articles\": 9, \"Domain\": \"natural language processing\"}, {\"Year\": 2001, \"Articles\": 9, \"Domain\": \"natural language processing\"}, {\"Year\": 2002, \"Articles\": 12, \"Domain\": \"natural language processing\"}, {\"Year\": 2003, \"Articles\": 8, \"Domain\": \"natural language processing\"}, {\"Year\": 2004, \"Articles\": 18, \"Domain\": \"natural language processing\"}, {\"Year\": 2005, \"Articles\": 19, \"Domain\": \"natural language processing\"}, {\"Year\": 2006, \"Articles\": 12, \"Domain\": \"natural language processing\"}, {\"Year\": 2007, \"Articles\": 20, \"Domain\": \"natural language processing\"}, {\"Year\": 2008, \"Articles\": 34, \"Domain\": \"natural language processing\"}, {\"Year\": 2009, \"Articles\": 32, \"Domain\": \"natural language processing\"}, {\"Year\": 2010, \"Articles\": 35, \"Domain\": \"natural language processing\"}, {\"Year\": 2011, \"Articles\": 35, \"Domain\": \"natural language processing\"}, {\"Year\": 2012, \"Articles\": 54, \"Domain\": \"natural language processing\"}, {\"Year\": 2013, \"Articles\": 32, \"Domain\": \"natural language processing\"}, {\"Year\": 2014, \"Articles\": 33, \"Domain\": \"natural language processing\"}, {\"Year\": 2015, \"Articles\": 39, \"Domain\": \"natural language processing\"}, {\"Year\": 2016, \"Articles\": 42, \"Domain\": \"natural language processing\"}, {\"Year\": 2017, \"Articles\": 54, \"Domain\": \"natural language processing\"}, {\"Year\": 2018, \"Articles\": 47, \"Domain\": \"natural language processing\"}, {\"Year\": 2019, \"Articles\": 61, \"Domain\": \"natural language processing\"}, {\"Year\": 2020, \"Articles\": 75, \"Domain\": \"natural language processing\"}, {\"Year\": 1990, \"Articles\": 10, \"Domain\": \"machine learning\"}, {\"Year\": 1991, \"Articles\": 7, \"Domain\": \"machine learning\"}, {\"Year\": 1992, \"Articles\": 7, \"Domain\": \"machine learning\"}, {\"Year\": 1993, \"Articles\": 7, \"Domain\": \"machine learning\"}, {\"Year\": 1994, \"Articles\": 22, \"Domain\": \"machine learning\"}, {\"Year\": 1995, \"Articles\": 11, \"Domain\": \"machine learning\"}, {\"Year\": 1996, \"Articles\": 18, \"Domain\": \"machine learning\"}, {\"Year\": 1997, \"Articles\": 19, \"Domain\": \"machine learning\"}, {\"Year\": 1998, \"Articles\": 15, \"Domain\": \"machine learning\"}, {\"Year\": 1999, \"Articles\": 12, \"Domain\": \"machine learning\"}, {\"Year\": 2000, \"Articles\": 10, \"Domain\": \"machine learning\"}, {\"Year\": 2001, \"Articles\": 8, \"Domain\": \"machine learning\"}, {\"Year\": 2002, \"Articles\": 8, \"Domain\": \"machine learning\"}, {\"Year\": 2003, \"Articles\": 6, \"Domain\": \"machine learning\"}, {\"Year\": 2004, \"Articles\": 18, \"Domain\": \"machine learning\"}, {\"Year\": 2005, \"Articles\": 19, \"Domain\": \"machine learning\"}, {\"Year\": 2006, \"Articles\": 25, \"Domain\": \"machine learning\"}, {\"Year\": 2007, \"Articles\": 18, \"Domain\": \"machine learning\"}, {\"Year\": 2008, \"Articles\": 33, \"Domain\": \"machine learning\"}, {\"Year\": 2009, \"Articles\": 32, \"Domain\": \"machine learning\"}, {\"Year\": 2010, \"Articles\": 39, \"Domain\": \"machine learning\"}, {\"Year\": 2011, \"Articles\": 26, \"Domain\": \"machine learning\"}, {\"Year\": 2012, \"Articles\": 38, \"Domain\": \"machine learning\"}, {\"Year\": 2013, \"Articles\": 32, \"Domain\": \"machine learning\"}, {\"Year\": 2014, \"Articles\": 30, \"Domain\": \"machine learning\"}, {\"Year\": 2015, \"Articles\": 54, \"Domain\": \"machine learning\"}, {\"Year\": 2016, \"Articles\": 64, \"Domain\": \"machine learning\"}, {\"Year\": 2017, \"Articles\": 77, \"Domain\": \"machine learning\"}, {\"Year\": 2018, \"Articles\": 92, \"Domain\": \"machine learning\"}, {\"Year\": 2019, \"Articles\": 113, \"Domain\": \"machine learning\"}, {\"Year\": 2020, \"Articles\": 142, \"Domain\": \"machine learning\"}, {\"Year\": 1990, \"Articles\": 0, \"Domain\": \"big data\"}, {\"Year\": 1991, \"Articles\": 1, \"Domain\": \"big data\"}, {\"Year\": 1992, \"Articles\": 3, \"Domain\": \"big data\"}, {\"Year\": 1993, \"Articles\": 2, \"Domain\": \"big data\"}, {\"Year\": 1994, \"Articles\": 0, \"Domain\": \"big data\"}, {\"Year\": 1995, \"Articles\": 0, \"Domain\": \"big data\"}, {\"Year\": 1996, \"Articles\": 1, \"Domain\": \"big data\"}, {\"Year\": 1997, \"Articles\": 3, \"Domain\": \"big data\"}, {\"Year\": 1998, \"Articles\": 1, \"Domain\": \"big data\"}, {\"Year\": 1999, \"Articles\": 1, \"Domain\": \"big data\"}, {\"Year\": 2000, \"Articles\": 3, \"Domain\": \"big data\"}, {\"Year\": 2001, \"Articles\": 2, \"Domain\": \"big data\"}, {\"Year\": 2002, \"Articles\": 4, \"Domain\": \"big data\"}, {\"Year\": 2003, \"Articles\": 2, \"Domain\": \"big data\"}, {\"Year\": 2004, \"Articles\": 7, \"Domain\": \"big data\"}, {\"Year\": 2005, \"Articles\": 16, \"Domain\": \"big data\"}, {\"Year\": 2006, \"Articles\": 14, \"Domain\": \"big data\"}, {\"Year\": 2007, \"Articles\": 16, \"Domain\": \"big data\"}, {\"Year\": 2008, \"Articles\": 28, \"Domain\": \"big data\"}, {\"Year\": 2009, \"Articles\": 26, \"Domain\": \"big data\"}, {\"Year\": 2010, \"Articles\": 20, \"Domain\": \"big data\"}, {\"Year\": 2011, \"Articles\": 22, \"Domain\": \"big data\"}, {\"Year\": 2012, \"Articles\": 44, \"Domain\": \"big data\"}, {\"Year\": 2013, \"Articles\": 42, \"Domain\": \"big data\"}, {\"Year\": 2014, \"Articles\": 53, \"Domain\": \"big data\"}, {\"Year\": 2015, \"Articles\": 77, \"Domain\": \"big data\"}, {\"Year\": 2016, \"Articles\": 103, \"Domain\": \"big data\"}, {\"Year\": 2017, \"Articles\": 99, \"Domain\": \"big data\"}, {\"Year\": 2018, \"Articles\": 90, \"Domain\": \"big data\"}, {\"Year\": 2019, \"Articles\": 86, \"Domain\": \"big data\"}, {\"Year\": 2020, \"Articles\": 112, \"Domain\": \"big data\"}]}}, {\"mode\": \"vega-lite\"});\n",
       "</script>"
      ],
      "text/plain": [
       "alt.Chart(...)"
      ]
     },
     "execution_count": 28,
     "metadata": {},
     "output_type": "execute_result"
    }
   ],
   "source": [
    "alt.Chart(df).mark_line().encode(x=\"Year:Q\", y=\"Articles:Q\", tooltip=[\"Articles\"], color='Domain', strokeDash='Domain').properties(height=900, width=1200)"
   ]
  },
  {
   "cell_type": "code",
   "execution_count": null,
   "metadata": {},
   "outputs": [],
   "source": []
  }
 ],
 "metadata": {
  "kernelspec": {
   "display_name": "Python 3",
   "language": "python",
   "name": "python3"
  },
  "language_info": {
   "codemirror_mode": {
    "name": "ipython",
    "version": 3
   },
   "file_extension": ".py",
   "mimetype": "text/x-python",
   "name": "python",
   "nbconvert_exporter": "python",
   "pygments_lexer": "ipython3",
   "version": "3.8.5"
  }
 },
 "nbformat": 4,
 "nbformat_minor": 4
}
