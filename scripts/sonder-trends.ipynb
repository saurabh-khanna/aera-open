{
 "cells": [
  {
   "cell_type": "code",
   "execution_count": 1,
   "metadata": {},
   "outputs": [],
   "source": [
    "import numpy as np\n",
    "import pandas as pd\n",
    "import requests\n",
    "import yaml\n",
    "import altair as alt"
   ]
  },
  {
   "cell_type": "code",
   "execution_count": 11,
   "metadata": {},
   "outputs": [],
   "source": [
    "url = \"https://api.ies.ed.gov/eric/\"\n",
    "\n",
    "\n",
    "def load_data(query):\n",
    "    \n",
    "    querystring1 = {\"search\": query, \"format\": \"json\", \"fields\": \"publicationdateyear\"}\n",
    "    response1 = requests.request(\"GET\", url, params=querystring1)\n",
    "    text1 = yaml.safe_load(response1.text)\n",
    "    results_max = text1[\"response\"][\"numFound\"]\n",
    "    print(results_max)\n",
    "    \n",
    "    df = []\n",
    "    results = 0\n",
    "    start = 0\n",
    "    while results < results_max:\n",
    "        querystring = {\"search\": query, \"format\": \"json\", \"rows\": 2000, \"start\": start, \"fields\": \"publicationdateyear\"}\n",
    "        response = requests.request(\"GET\", url, params=querystring)\n",
    "        text = yaml.safe_load(response.text)\n",
    "        df_mini = pd.DataFrame(text[\"response\"][\"docs\"])\n",
    "        df.append(df_mini)\n",
    "        # keeping at least 30 results\n",
    "        results += len(df_mini)\n",
    "        start += 2000\n",
    "    \n",
    "    df = pd.concat(df)\n",
    "    return df"
   ]
  },
  {
   "cell_type": "code",
   "execution_count": 12,
   "metadata": {},
   "outputs": [
    {
     "name": "stdout",
     "output_type": "stream",
     "text": [
      "8880\n"
     ]
    }
   ],
   "source": [
    "df = load_data(\"psychometrics\")"
   ]
  },
  {
   "cell_type": "code",
   "execution_count": 13,
   "metadata": {},
   "outputs": [
    {
     "data": {
      "text/html": [
       "<div>\n",
       "<style scoped>\n",
       "    .dataframe tbody tr th:only-of-type {\n",
       "        vertical-align: middle;\n",
       "    }\n",
       "\n",
       "    .dataframe tbody tr th {\n",
       "        vertical-align: top;\n",
       "    }\n",
       "\n",
       "    .dataframe thead th {\n",
       "        text-align: right;\n",
       "    }\n",
       "</style>\n",
       "<table border=\"1\" class=\"dataframe\">\n",
       "  <thead>\n",
       "    <tr style=\"text-align: right;\">\n",
       "      <th></th>\n",
       "      <th>publicationdateyear</th>\n",
       "    </tr>\n",
       "  </thead>\n",
       "  <tbody>\n",
       "    <tr>\n",
       "      <th>0</th>\n",
       "      <td>1970.0</td>\n",
       "    </tr>\n",
       "    <tr>\n",
       "      <th>1</th>\n",
       "      <td>1999.0</td>\n",
       "    </tr>\n",
       "    <tr>\n",
       "      <th>2</th>\n",
       "      <td>1971.0</td>\n",
       "    </tr>\n",
       "    <tr>\n",
       "      <th>3</th>\n",
       "      <td>1971.0</td>\n",
       "    </tr>\n",
       "    <tr>\n",
       "      <th>4</th>\n",
       "      <td>1971.0</td>\n",
       "    </tr>\n",
       "    <tr>\n",
       "      <th>...</th>\n",
       "      <td>...</td>\n",
       "    </tr>\n",
       "    <tr>\n",
       "      <th>875</th>\n",
       "      <td>2016.0</td>\n",
       "    </tr>\n",
       "    <tr>\n",
       "      <th>876</th>\n",
       "      <td>2016.0</td>\n",
       "    </tr>\n",
       "    <tr>\n",
       "      <th>877</th>\n",
       "      <td>2014.0</td>\n",
       "    </tr>\n",
       "    <tr>\n",
       "      <th>878</th>\n",
       "      <td>2011.0</td>\n",
       "    </tr>\n",
       "    <tr>\n",
       "      <th>879</th>\n",
       "      <td>2013.0</td>\n",
       "    </tr>\n",
       "  </tbody>\n",
       "</table>\n",
       "<p>8880 rows × 1 columns</p>\n",
       "</div>"
      ],
      "text/plain": [
       "     publicationdateyear\n",
       "0                 1970.0\n",
       "1                 1999.0\n",
       "2                 1971.0\n",
       "3                 1971.0\n",
       "4                 1971.0\n",
       "..                   ...\n",
       "875               2016.0\n",
       "876               2016.0\n",
       "877               2014.0\n",
       "878               2011.0\n",
       "879               2013.0\n",
       "\n",
       "[8880 rows x 1 columns]"
      ]
     },
     "execution_count": 13,
     "metadata": {},
     "output_type": "execute_result"
    }
   ],
   "source": [
    "df"
   ]
  },
  {
   "cell_type": "code",
   "execution_count": null,
   "metadata": {},
   "outputs": [],
   "source": [
    "#df[\"publicationdateyear\"].value_counts()\n",
    "df = df[\"publicationdateyear\"].value_counts().rename_axis('year').reset_index(name='counts')"
   ]
  },
  {
   "cell_type": "code",
   "execution_count": null,
   "metadata": {},
   "outputs": [],
   "source": [
    "alt.Chart(df_summ).mark_area().encode(\n",
    "    x=\"year:Q\",\n",
    "    y=\"counts:Q\",\n",
    "    tooltip=[\"counts\"]\n",
    ")"
   ]
  },
  {
   "cell_type": "code",
   "execution_count": null,
   "metadata": {},
   "outputs": [],
   "source": []
  }
 ],
 "metadata": {
  "kernelspec": {
   "display_name": "Python 3",
   "language": "python",
   "name": "python3"
  },
  "language_info": {
   "codemirror_mode": {
    "name": "ipython",
    "version": 3
   },
   "file_extension": ".py",
   "mimetype": "text/x-python",
   "name": "python",
   "nbconvert_exporter": "python",
   "pygments_lexer": "ipython3",
   "version": "3.8.5"
  }
 },
 "nbformat": 4,
 "nbformat_minor": 4
}
