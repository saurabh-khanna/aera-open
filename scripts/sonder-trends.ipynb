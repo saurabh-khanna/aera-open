{
 "cells": [
  {
   "cell_type": "code",
   "execution_count": 1,
   "metadata": {},
   "outputs": [],
   "source": [
    "import altair as alt\n",
    "import numpy as np\n",
    "import pandas as pd\n",
    "import requests\n",
    "import yaml"
   ]
  },
  {
   "cell_type": "code",
   "execution_count": 2,
   "metadata": {},
   "outputs": [],
   "source": [
    "url = \"https://api.ies.ed.gov/eric/\"\n",
    "\n",
    "\n",
    "def load_data(query):\n",
    "\n",
    "    df_dict = {}\n",
    "    for year in range(1990, 2021):\n",
    "        query_final = query + str(year)\n",
    "        querystring = {\n",
    "            \"search\": query_final,\n",
    "            \"format\": \"json\",\n",
    "        }\n",
    "        response = requests.request(\"GET\", url, params=querystring)\n",
    "        text = yaml.safe_load(response.text)\n",
    "        df_dict[year] = int(text[\"response\"][\"numFound\"])\n",
    "\n",
    "    df = pd.DataFrame(list(df_dict.items()), columns=[\"Year\", \"Articles\"])\n",
    "    return df"
   ]
  },
  {
   "cell_type": "code",
   "execution_count": 3,
   "metadata": {},
   "outputs": [],
   "source": [
    "query_old = \"data science\"\n",
    "query = '(title:\"' + query_old + '\" OR description:\"' + query_old + '\") AND peerreviewed:T AND publicationdateyear:'\n",
    "df4 = load_data(query)\n",
    "df4[\"Domain\"] = query_old"
   ]
  },
  {
   "cell_type": "code",
   "execution_count": 4,
   "metadata": {},
   "outputs": [],
   "source": [
    "query_old = \"learning analytics\"\n",
    "query = '(title:\"' + query_old + '\" OR description:\"' + query_old + '\") AND peerreviewed:T AND publicationdateyear:'\n",
    "df5 = load_data(query)\n",
    "df5[\"Domain\"] = query_old"
   ]
  },
  {
   "cell_type": "code",
   "execution_count": 5,
   "metadata": {},
   "outputs": [],
   "source": [
    "query_old = \"data mining\"\n",
    "query = '(title:\"' + query_old + '\" OR description:\"' + query_old + '\") AND peerreviewed:T AND publicationdateyear:'\n",
    "df6 = load_data(query)\n",
    "df6[\"Domain\"] = query_old"
   ]
  },
  {
   "cell_type": "code",
   "execution_count": 6,
   "metadata": {},
   "outputs": [],
   "source": [
    "query_old = \"artificial intelligence\"\n",
    "query = '(title:\"' + query_old + '\" OR description:\"' + query_old + '\") AND peerreviewed:T AND publicationdateyear:'\n",
    "df7 = load_data(query)\n",
    "df7[\"Domain\"] = query_old"
   ]
  },
  {
   "cell_type": "code",
   "execution_count": 7,
   "metadata": {},
   "outputs": [],
   "source": [
    "query_old = \"natural language processing\"\n",
    "query = '(title:\"' + query_old + '\" OR description:\"' + query_old + '\") AND peerreviewed:T AND publicationdateyear:'\n",
    "df8 = load_data(query)\n",
    "df8[\"Domain\"] = query_old"
   ]
  },
  {
   "cell_type": "code",
   "execution_count": 8,
   "metadata": {},
   "outputs": [],
   "source": [
    "query_old = \"machine learning\"\n",
    "query = '(title:\"' + query_old + '\" OR description:\"' + query_old + '\") AND peerreviewed:T AND publicationdateyear:'\n",
    "df9 = load_data(query)\n",
    "df9[\"Domain\"] = query_old"
   ]
  },
  {
   "cell_type": "code",
   "execution_count": 9,
   "metadata": {},
   "outputs": [],
   "source": [
    "query_old = \"big data\"\n",
    "query = '(title:\"' + query_old + '\" OR description:\"' + query_old + '\") AND peerreviewed:T AND publicationdateyear:'\n",
    "df10 = load_data(query)\n",
    "df10[\"Domain\"] = query_old"
   ]
  },
  {
   "cell_type": "code",
   "execution_count": 10,
   "metadata": {},
   "outputs": [],
   "source": [
    "df = (\n",
    "    df4.append(df5)\n",
    "    .append(df6)\n",
    "    .append(df7)\n",
    "    .append(df8)\n",
    "    .append(df9)\n",
    "    .append(df10)\n",
    ")\n",
    "df.to_csv(\"jl_output.csv\", encoding='utf-8', index=False)"
   ]
  },
  {
   "cell_type": "code",
   "execution_count": 11,
   "metadata": {},
   "outputs": [
    {
     "data": {
      "text/plain": [
       "'(title:\"big data\" OR description:\"big data\") AND peerreviewed:T AND publicationdateyear:'"
      ]
     },
     "execution_count": 11,
     "metadata": {},
     "output_type": "execute_result"
    }
   ],
   "source": [
    "query"
   ]
  },
  {
   "cell_type": "code",
   "execution_count": 12,
   "metadata": {},
   "outputs": [
    {
     "data": {
      "text/html": [
       "\n",
       "<div id=\"altair-viz-522a9fe3eac54aaf8f316f6e4bc074cf\"></div>\n",
       "<script type=\"text/javascript\">\n",
       "  (function(spec, embedOpt){\n",
       "    let outputDiv = document.currentScript.previousElementSibling;\n",
       "    if (outputDiv.id !== \"altair-viz-522a9fe3eac54aaf8f316f6e4bc074cf\") {\n",
       "      outputDiv = document.getElementById(\"altair-viz-522a9fe3eac54aaf8f316f6e4bc074cf\");\n",
       "    }\n",
       "    const paths = {\n",
       "      \"vega\": \"https://cdn.jsdelivr.net/npm//vega@5?noext\",\n",
       "      \"vega-lib\": \"https://cdn.jsdelivr.net/npm//vega-lib?noext\",\n",
       "      \"vega-lite\": \"https://cdn.jsdelivr.net/npm//vega-lite@4.8.1?noext\",\n",
       "      \"vega-embed\": \"https://cdn.jsdelivr.net/npm//vega-embed@6?noext\",\n",
       "    };\n",
       "\n",
       "    function loadScript(lib) {\n",
       "      return new Promise(function(resolve, reject) {\n",
       "        var s = document.createElement('script');\n",
       "        s.src = paths[lib];\n",
       "        s.async = true;\n",
       "        s.onload = () => resolve(paths[lib]);\n",
       "        s.onerror = () => reject(`Error loading script: ${paths[lib]}`);\n",
       "        document.getElementsByTagName(\"head\")[0].appendChild(s);\n",
       "      });\n",
       "    }\n",
       "\n",
       "    function showError(err) {\n",
       "      outputDiv.innerHTML = `<div class=\"error\" style=\"color:red;\">${err}</div>`;\n",
       "      throw err;\n",
       "    }\n",
       "\n",
       "    function displayChart(vegaEmbed) {\n",
       "      vegaEmbed(outputDiv, spec, embedOpt)\n",
       "        .catch(err => showError(`Javascript Error: ${err.message}<br>This usually means there's a typo in your chart specification. See the javascript console for the full traceback.`));\n",
       "    }\n",
       "\n",
       "    if(typeof define === \"function\" && define.amd) {\n",
       "      requirejs.config({paths});\n",
       "      require([\"vega-embed\"], displayChart, err => showError(`Error loading script: ${err.message}`));\n",
       "    } else if (typeof vegaEmbed === \"function\") {\n",
       "      displayChart(vegaEmbed);\n",
       "    } else {\n",
       "      loadScript(\"vega\")\n",
       "        .then(() => loadScript(\"vega-lite\"))\n",
       "        .then(() => loadScript(\"vega-embed\"))\n",
       "        .catch(showError)\n",
       "        .then(() => displayChart(vegaEmbed));\n",
       "    }\n",
       "  })({\"config\": {\"view\": {\"continuousWidth\": 400, \"continuousHeight\": 300}}, \"data\": {\"name\": \"data-215e818f8e1138cdbf173a60ef5352bf\"}, \"mark\": \"line\", \"encoding\": {\"color\": {\"type\": \"nominal\", \"field\": \"Domain\"}, \"strokeDash\": {\"type\": \"nominal\", \"field\": \"Domain\"}, \"tooltip\": [{\"type\": \"quantitative\", \"field\": \"Articles\"}], \"x\": {\"type\": \"quantitative\", \"field\": \"Year\"}, \"y\": {\"type\": \"quantitative\", \"field\": \"Articles\"}}, \"$schema\": \"https://vega.github.io/schema/vega-lite/v4.8.1.json\", \"datasets\": {\"data-215e818f8e1138cdbf173a60ef5352bf\": [{\"Year\": 1990, \"Articles\": 0, \"Domain\": \"data science\"}, {\"Year\": 1991, \"Articles\": 0, \"Domain\": \"data science\"}, {\"Year\": 1992, \"Articles\": 0, \"Domain\": \"data science\"}, {\"Year\": 1993, \"Articles\": 0, \"Domain\": \"data science\"}, {\"Year\": 1994, \"Articles\": 0, \"Domain\": \"data science\"}, {\"Year\": 1995, \"Articles\": 0, \"Domain\": \"data science\"}, {\"Year\": 1996, \"Articles\": 0, \"Domain\": \"data science\"}, {\"Year\": 1997, \"Articles\": 0, \"Domain\": \"data science\"}, {\"Year\": 1998, \"Articles\": 0, \"Domain\": \"data science\"}, {\"Year\": 1999, \"Articles\": 0, \"Domain\": \"data science\"}, {\"Year\": 2000, \"Articles\": 0, \"Domain\": \"data science\"}, {\"Year\": 2001, \"Articles\": 0, \"Domain\": \"data science\"}, {\"Year\": 2002, \"Articles\": 0, \"Domain\": \"data science\"}, {\"Year\": 2003, \"Articles\": 0, \"Domain\": \"data science\"}, {\"Year\": 2004, \"Articles\": 0, \"Domain\": \"data science\"}, {\"Year\": 2005, \"Articles\": 0, \"Domain\": \"data science\"}, {\"Year\": 2006, \"Articles\": 0, \"Domain\": \"data science\"}, {\"Year\": 2007, \"Articles\": 0, \"Domain\": \"data science\"}, {\"Year\": 2008, \"Articles\": 0, \"Domain\": \"data science\"}, {\"Year\": 2009, \"Articles\": 0, \"Domain\": \"data science\"}, {\"Year\": 2010, \"Articles\": 1, \"Domain\": \"data science\"}, {\"Year\": 2011, \"Articles\": 0, \"Domain\": \"data science\"}, {\"Year\": 2012, \"Articles\": 1, \"Domain\": \"data science\"}, {\"Year\": 2013, \"Articles\": 1, \"Domain\": \"data science\"}, {\"Year\": 2014, \"Articles\": 3, \"Domain\": \"data science\"}, {\"Year\": 2015, \"Articles\": 9, \"Domain\": \"data science\"}, {\"Year\": 2016, \"Articles\": 11, \"Domain\": \"data science\"}, {\"Year\": 2017, \"Articles\": 14, \"Domain\": \"data science\"}, {\"Year\": 2018, \"Articles\": 15, \"Domain\": \"data science\"}, {\"Year\": 2019, \"Articles\": 20, \"Domain\": \"data science\"}, {\"Year\": 2020, \"Articles\": 41, \"Domain\": \"data science\"}, {\"Year\": 1990, \"Articles\": 0, \"Domain\": \"learning analytics\"}, {\"Year\": 1991, \"Articles\": 0, \"Domain\": \"learning analytics\"}, {\"Year\": 1992, \"Articles\": 0, \"Domain\": \"learning analytics\"}, {\"Year\": 1993, \"Articles\": 0, \"Domain\": \"learning analytics\"}, {\"Year\": 1994, \"Articles\": 0, \"Domain\": \"learning analytics\"}, {\"Year\": 1995, \"Articles\": 0, \"Domain\": \"learning analytics\"}, {\"Year\": 1996, \"Articles\": 0, \"Domain\": \"learning analytics\"}, {\"Year\": 1997, \"Articles\": 0, \"Domain\": \"learning analytics\"}, {\"Year\": 1998, \"Articles\": 0, \"Domain\": \"learning analytics\"}, {\"Year\": 1999, \"Articles\": 0, \"Domain\": \"learning analytics\"}, {\"Year\": 2000, \"Articles\": 0, \"Domain\": \"learning analytics\"}, {\"Year\": 2001, \"Articles\": 0, \"Domain\": \"learning analytics\"}, {\"Year\": 2002, \"Articles\": 0, \"Domain\": \"learning analytics\"}, {\"Year\": 2003, \"Articles\": 0, \"Domain\": \"learning analytics\"}, {\"Year\": 2004, \"Articles\": 0, \"Domain\": \"learning analytics\"}, {\"Year\": 2005, \"Articles\": 0, \"Domain\": \"learning analytics\"}, {\"Year\": 2006, \"Articles\": 1, \"Domain\": \"learning analytics\"}, {\"Year\": 2007, \"Articles\": 0, \"Domain\": \"learning analytics\"}, {\"Year\": 2008, \"Articles\": 0, \"Domain\": \"learning analytics\"}, {\"Year\": 2009, \"Articles\": 1, \"Domain\": \"learning analytics\"}, {\"Year\": 2010, \"Articles\": 0, \"Domain\": \"learning analytics\"}, {\"Year\": 2011, \"Articles\": 3, \"Domain\": \"learning analytics\"}, {\"Year\": 2012, \"Articles\": 14, \"Domain\": \"learning analytics\"}, {\"Year\": 2013, \"Articles\": 16, \"Domain\": \"learning analytics\"}, {\"Year\": 2014, \"Articles\": 40, \"Domain\": \"learning analytics\"}, {\"Year\": 2015, \"Articles\": 50, \"Domain\": \"learning analytics\"}, {\"Year\": 2016, \"Articles\": 78, \"Domain\": \"learning analytics\"}, {\"Year\": 2017, \"Articles\": 95, \"Domain\": \"learning analytics\"}, {\"Year\": 2018, \"Articles\": 94, \"Domain\": \"learning analytics\"}, {\"Year\": 2019, \"Articles\": 116, \"Domain\": \"learning analytics\"}, {\"Year\": 2020, \"Articles\": 125, \"Domain\": \"learning analytics\"}, {\"Year\": 1990, \"Articles\": 0, \"Domain\": \"data mining\"}, {\"Year\": 1991, \"Articles\": 0, \"Domain\": \"data mining\"}, {\"Year\": 1992, \"Articles\": 0, \"Domain\": \"data mining\"}, {\"Year\": 1993, \"Articles\": 0, \"Domain\": \"data mining\"}, {\"Year\": 1994, \"Articles\": 0, \"Domain\": \"data mining\"}, {\"Year\": 1995, \"Articles\": 0, \"Domain\": \"data mining\"}, {\"Year\": 1996, \"Articles\": 0, \"Domain\": \"data mining\"}, {\"Year\": 1997, \"Articles\": 3, \"Domain\": \"data mining\"}, {\"Year\": 1998, \"Articles\": 3, \"Domain\": \"data mining\"}, {\"Year\": 1999, \"Articles\": 2, \"Domain\": \"data mining\"}, {\"Year\": 2000, \"Articles\": 3, \"Domain\": \"data mining\"}, {\"Year\": 2001, \"Articles\": 3, \"Domain\": \"data mining\"}, {\"Year\": 2002, \"Articles\": 9, \"Domain\": \"data mining\"}, {\"Year\": 2003, \"Articles\": 6, \"Domain\": \"data mining\"}, {\"Year\": 2004, \"Articles\": 8, \"Domain\": \"data mining\"}, {\"Year\": 2005, \"Articles\": 6, \"Domain\": \"data mining\"}, {\"Year\": 2006, \"Articles\": 13, \"Domain\": \"data mining\"}, {\"Year\": 2007, \"Articles\": 9, \"Domain\": \"data mining\"}, {\"Year\": 2008, \"Articles\": 11, \"Domain\": \"data mining\"}, {\"Year\": 2009, \"Articles\": 11, \"Domain\": \"data mining\"}, {\"Year\": 2010, \"Articles\": 17, \"Domain\": \"data mining\"}, {\"Year\": 2011, \"Articles\": 24, \"Domain\": \"data mining\"}, {\"Year\": 2012, \"Articles\": 27, \"Domain\": \"data mining\"}, {\"Year\": 2013, \"Articles\": 29, \"Domain\": \"data mining\"}, {\"Year\": 2014, \"Articles\": 27, \"Domain\": \"data mining\"}, {\"Year\": 2015, \"Articles\": 34, \"Domain\": \"data mining\"}, {\"Year\": 2016, \"Articles\": 61, \"Domain\": \"data mining\"}, {\"Year\": 2017, \"Articles\": 59, \"Domain\": \"data mining\"}, {\"Year\": 2018, \"Articles\": 55, \"Domain\": \"data mining\"}, {\"Year\": 2019, \"Articles\": 66, \"Domain\": \"data mining\"}, {\"Year\": 2020, \"Articles\": 57, \"Domain\": \"data mining\"}, {\"Year\": 1990, \"Articles\": 18, \"Domain\": \"artificial intelligence\"}, {\"Year\": 1991, \"Articles\": 11, \"Domain\": \"artificial intelligence\"}, {\"Year\": 1992, \"Articles\": 15, \"Domain\": \"artificial intelligence\"}, {\"Year\": 1993, \"Articles\": 5, \"Domain\": \"artificial intelligence\"}, {\"Year\": 1994, \"Articles\": 6, \"Domain\": \"artificial intelligence\"}, {\"Year\": 1995, \"Articles\": 8, \"Domain\": \"artificial intelligence\"}, {\"Year\": 1996, \"Articles\": 6, \"Domain\": \"artificial intelligence\"}, {\"Year\": 1997, \"Articles\": 6, \"Domain\": \"artificial intelligence\"}, {\"Year\": 1998, \"Articles\": 8, \"Domain\": \"artificial intelligence\"}, {\"Year\": 1999, \"Articles\": 8, \"Domain\": \"artificial intelligence\"}, {\"Year\": 2000, \"Articles\": 1, \"Domain\": \"artificial intelligence\"}, {\"Year\": 2001, \"Articles\": 5, \"Domain\": \"artificial intelligence\"}, {\"Year\": 2002, \"Articles\": 6, \"Domain\": \"artificial intelligence\"}, {\"Year\": 2003, \"Articles\": 10, \"Domain\": \"artificial intelligence\"}, {\"Year\": 2004, \"Articles\": 9, \"Domain\": \"artificial intelligence\"}, {\"Year\": 2005, \"Articles\": 5, \"Domain\": \"artificial intelligence\"}, {\"Year\": 2006, \"Articles\": 8, \"Domain\": \"artificial intelligence\"}, {\"Year\": 2007, \"Articles\": 10, \"Domain\": \"artificial intelligence\"}, {\"Year\": 2008, \"Articles\": 8, \"Domain\": \"artificial intelligence\"}, {\"Year\": 2009, \"Articles\": 14, \"Domain\": \"artificial intelligence\"}, {\"Year\": 2010, \"Articles\": 15, \"Domain\": \"artificial intelligence\"}, {\"Year\": 2011, \"Articles\": 11, \"Domain\": \"artificial intelligence\"}, {\"Year\": 2012, \"Articles\": 14, \"Domain\": \"artificial intelligence\"}, {\"Year\": 2013, \"Articles\": 17, \"Domain\": \"artificial intelligence\"}, {\"Year\": 2014, \"Articles\": 10, \"Domain\": \"artificial intelligence\"}, {\"Year\": 2015, \"Articles\": 9, \"Domain\": \"artificial intelligence\"}, {\"Year\": 2016, \"Articles\": 24, \"Domain\": \"artificial intelligence\"}, {\"Year\": 2017, \"Articles\": 36, \"Domain\": \"artificial intelligence\"}, {\"Year\": 2018, \"Articles\": 24, \"Domain\": \"artificial intelligence\"}, {\"Year\": 2019, \"Articles\": 59, \"Domain\": \"artificial intelligence\"}, {\"Year\": 2020, \"Articles\": 71, \"Domain\": \"artificial intelligence\"}, {\"Year\": 1990, \"Articles\": 7, \"Domain\": \"natural language processing\"}, {\"Year\": 1991, \"Articles\": 3, \"Domain\": \"natural language processing\"}, {\"Year\": 1992, \"Articles\": 1, \"Domain\": \"natural language processing\"}, {\"Year\": 1993, \"Articles\": 8, \"Domain\": \"natural language processing\"}, {\"Year\": 1994, \"Articles\": 0, \"Domain\": \"natural language processing\"}, {\"Year\": 1995, \"Articles\": 5, \"Domain\": \"natural language processing\"}, {\"Year\": 1996, \"Articles\": 3, \"Domain\": \"natural language processing\"}, {\"Year\": 1997, \"Articles\": 0, \"Domain\": \"natural language processing\"}, {\"Year\": 1998, \"Articles\": 6, \"Domain\": \"natural language processing\"}, {\"Year\": 1999, \"Articles\": 1, \"Domain\": \"natural language processing\"}, {\"Year\": 2000, \"Articles\": 4, \"Domain\": \"natural language processing\"}, {\"Year\": 2001, \"Articles\": 4, \"Domain\": \"natural language processing\"}, {\"Year\": 2002, \"Articles\": 7, \"Domain\": \"natural language processing\"}, {\"Year\": 2003, \"Articles\": 4, \"Domain\": \"natural language processing\"}, {\"Year\": 2004, \"Articles\": 2, \"Domain\": \"natural language processing\"}, {\"Year\": 2005, \"Articles\": 2, \"Domain\": \"natural language processing\"}, {\"Year\": 2006, \"Articles\": 4, \"Domain\": \"natural language processing\"}, {\"Year\": 2007, \"Articles\": 4, \"Domain\": \"natural language processing\"}, {\"Year\": 2008, \"Articles\": 5, \"Domain\": \"natural language processing\"}, {\"Year\": 2009, \"Articles\": 6, \"Domain\": \"natural language processing\"}, {\"Year\": 2010, \"Articles\": 11, \"Domain\": \"natural language processing\"}, {\"Year\": 2011, \"Articles\": 8, \"Domain\": \"natural language processing\"}, {\"Year\": 2012, \"Articles\": 10, \"Domain\": \"natural language processing\"}, {\"Year\": 2013, \"Articles\": 9, \"Domain\": \"natural language processing\"}, {\"Year\": 2014, \"Articles\": 13, \"Domain\": \"natural language processing\"}, {\"Year\": 2015, \"Articles\": 16, \"Domain\": \"natural language processing\"}, {\"Year\": 2016, \"Articles\": 13, \"Domain\": \"natural language processing\"}, {\"Year\": 2017, \"Articles\": 28, \"Domain\": \"natural language processing\"}, {\"Year\": 2018, \"Articles\": 20, \"Domain\": \"natural language processing\"}, {\"Year\": 2019, \"Articles\": 28, \"Domain\": \"natural language processing\"}, {\"Year\": 2020, \"Articles\": 38, \"Domain\": \"natural language processing\"}, {\"Year\": 1990, \"Articles\": 2, \"Domain\": \"machine learning\"}, {\"Year\": 1991, \"Articles\": 0, \"Domain\": \"machine learning\"}, {\"Year\": 1992, \"Articles\": 1, \"Domain\": \"machine learning\"}, {\"Year\": 1993, \"Articles\": 0, \"Domain\": \"machine learning\"}, {\"Year\": 1994, \"Articles\": 1, \"Domain\": \"machine learning\"}, {\"Year\": 1995, \"Articles\": 1, \"Domain\": \"machine learning\"}, {\"Year\": 1996, \"Articles\": 1, \"Domain\": \"machine learning\"}, {\"Year\": 1997, \"Articles\": 1, \"Domain\": \"machine learning\"}, {\"Year\": 1998, \"Articles\": 2, \"Domain\": \"machine learning\"}, {\"Year\": 1999, \"Articles\": 2, \"Domain\": \"machine learning\"}, {\"Year\": 2000, \"Articles\": 0, \"Domain\": \"machine learning\"}, {\"Year\": 2001, \"Articles\": 0, \"Domain\": \"machine learning\"}, {\"Year\": 2002, \"Articles\": 1, \"Domain\": \"machine learning\"}, {\"Year\": 2003, \"Articles\": 1, \"Domain\": \"machine learning\"}, {\"Year\": 2004, \"Articles\": 3, \"Domain\": \"machine learning\"}, {\"Year\": 2005, \"Articles\": 1, \"Domain\": \"machine learning\"}, {\"Year\": 2006, \"Articles\": 2, \"Domain\": \"machine learning\"}, {\"Year\": 2007, \"Articles\": 2, \"Domain\": \"machine learning\"}, {\"Year\": 2008, \"Articles\": 4, \"Domain\": \"machine learning\"}, {\"Year\": 2009, \"Articles\": 6, \"Domain\": \"machine learning\"}, {\"Year\": 2010, \"Articles\": 10, \"Domain\": \"machine learning\"}, {\"Year\": 2011, \"Articles\": 7, \"Domain\": \"machine learning\"}, {\"Year\": 2012, \"Articles\": 11, \"Domain\": \"machine learning\"}, {\"Year\": 2013, \"Articles\": 11, \"Domain\": \"machine learning\"}, {\"Year\": 2014, \"Articles\": 16, \"Domain\": \"machine learning\"}, {\"Year\": 2015, \"Articles\": 12, \"Domain\": \"machine learning\"}, {\"Year\": 2016, \"Articles\": 28, \"Domain\": \"machine learning\"}, {\"Year\": 2017, \"Articles\": 35, \"Domain\": \"machine learning\"}, {\"Year\": 2018, \"Articles\": 56, \"Domain\": \"machine learning\"}, {\"Year\": 2019, \"Articles\": 79, \"Domain\": \"machine learning\"}, {\"Year\": 2020, \"Articles\": 104, \"Domain\": \"machine learning\"}, {\"Year\": 1990, \"Articles\": 0, \"Domain\": \"big data\"}, {\"Year\": 1991, \"Articles\": 0, \"Domain\": \"big data\"}, {\"Year\": 1992, \"Articles\": 0, \"Domain\": \"big data\"}, {\"Year\": 1993, \"Articles\": 0, \"Domain\": \"big data\"}, {\"Year\": 1994, \"Articles\": 0, \"Domain\": \"big data\"}, {\"Year\": 1995, \"Articles\": 0, \"Domain\": \"big data\"}, {\"Year\": 1996, \"Articles\": 0, \"Domain\": \"big data\"}, {\"Year\": 1997, \"Articles\": 0, \"Domain\": \"big data\"}, {\"Year\": 1998, \"Articles\": 0, \"Domain\": \"big data\"}, {\"Year\": 1999, \"Articles\": 0, \"Domain\": \"big data\"}, {\"Year\": 2000, \"Articles\": 0, \"Domain\": \"big data\"}, {\"Year\": 2001, \"Articles\": 0, \"Domain\": \"big data\"}, {\"Year\": 2002, \"Articles\": 0, \"Domain\": \"big data\"}, {\"Year\": 2003, \"Articles\": 0, \"Domain\": \"big data\"}, {\"Year\": 2004, \"Articles\": 0, \"Domain\": \"big data\"}, {\"Year\": 2005, \"Articles\": 0, \"Domain\": \"big data\"}, {\"Year\": 2006, \"Articles\": 0, \"Domain\": \"big data\"}, {\"Year\": 2007, \"Articles\": 0, \"Domain\": \"big data\"}, {\"Year\": 2008, \"Articles\": 0, \"Domain\": \"big data\"}, {\"Year\": 2009, \"Articles\": 0, \"Domain\": \"big data\"}, {\"Year\": 2010, \"Articles\": 0, \"Domain\": \"big data\"}, {\"Year\": 2011, \"Articles\": 1, \"Domain\": \"big data\"}, {\"Year\": 2012, \"Articles\": 3, \"Domain\": \"big data\"}, {\"Year\": 2013, \"Articles\": 8, \"Domain\": \"big data\"}, {\"Year\": 2014, \"Articles\": 21, \"Domain\": \"big data\"}, {\"Year\": 2015, \"Articles\": 32, \"Domain\": \"big data\"}, {\"Year\": 2016, \"Articles\": 54, \"Domain\": \"big data\"}, {\"Year\": 2017, \"Articles\": 53, \"Domain\": \"big data\"}, {\"Year\": 2018, \"Articles\": 54, \"Domain\": \"big data\"}, {\"Year\": 2019, \"Articles\": 41, \"Domain\": \"big data\"}, {\"Year\": 2020, \"Articles\": 62, \"Domain\": \"big data\"}]}}, {\"mode\": \"vega-lite\"});\n",
       "</script>"
      ],
      "text/plain": [
       "alt.Chart(...)"
      ]
     },
     "execution_count": 12,
     "metadata": {},
     "output_type": "execute_result"
    }
   ],
   "source": [
    "alt.Chart(df).mark_line().encode(\n",
    "    x=\"Year:Q\",\n",
    "    y=\"Articles:Q\",\n",
    "    tooltip=[\"Articles\"],\n",
    "    color=\"Domain\",\n",
    "    strokeDash=\"Domain\",\n",
    ")"
   ]
  },
  {
   "cell_type": "code",
   "execution_count": null,
   "metadata": {},
   "outputs": [],
   "source": []
  }
 ],
 "metadata": {
  "kernelspec": {
   "display_name": "Python 3",
   "language": "python",
   "name": "python3"
  },
  "language_info": {
   "codemirror_mode": {
    "name": "ipython",
    "version": 3
   },
   "file_extension": ".py",
   "mimetype": "text/x-python",
   "name": "python",
   "nbconvert_exporter": "python",
   "pygments_lexer": "ipython3",
   "version": "3.8.5"
  }
 },
 "nbformat": 4,
 "nbformat_minor": 4
}
