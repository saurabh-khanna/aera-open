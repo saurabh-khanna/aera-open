{
 "cells": [
  {
   "cell_type": "code",
   "execution_count": null,
   "metadata": {},
   "outputs": [],
   "source": [
    "import altair as alt\n",
    "import numpy as np\n",
    "import pandas as pd\n",
    "import requests\n",
    "import yaml"
   ]
  },
  {
   "cell_type": "code",
   "execution_count": null,
   "metadata": {},
   "outputs": [],
   "source": [
    "url = \"https://api.ies.ed.gov/eric/\"\n",
    "\n",
    "\n",
    "def load_data(query):\n",
    "\n",
    "    df_dict = {}\n",
    "    for year in range(1960, 2022):\n",
    "        query_final = query + str(year)\n",
    "        querystring = {\n",
    "            \"search\": query_final,\n",
    "            \"format\": \"json\",\n",
    "        }\n",
    "        response = requests.request(\"GET\", url, params=querystring)\n",
    "        text = yaml.safe_load(response.text)\n",
    "        df_dict[year] = int(text[\"response\"][\"numFound\"])\n",
    "\n",
    "    df = pd.DataFrame(list(df_dict.items()), columns=[\"Year\", \"Articles\"])\n",
    "    return df"
   ]
  },
  {
   "cell_type": "code",
   "execution_count": null,
   "metadata": {},
   "outputs": [],
   "source": [
    "# Test individual queries\n",
    "querystring = {\n",
    "#             \"search\": \"'Add Health' AND peerreviewed:T AND publicationdateyear:2018\",\n",
    "            \"search\": '(title:\"Add Health\" OR description:\"Add Health\") AND peerreviewed:T AND publicationdateyear:2021',\n",
    "            \"format\": \"json\",\n",
    "        }\n",
    "response = requests.request(\"GET\", url, params=querystring)\n",
    "text = yaml.safe_load(response.text)\n",
    "int(text[\"response\"][\"numFound\"])"
   ]
  },
  {
   "cell_type": "markdown",
   "metadata": {},
   "source": [
    "### Absolute Counts"
   ]
  },
  {
   "cell_type": "code",
   "execution_count": null,
   "metadata": {},
   "outputs": [],
   "source": [
    "query_old = \"network\"\n",
    "query = '(title:\"' + query_old + '\" OR description:\"' + query_old + '\") AND peerreviewed:T AND publicationdateyear:'\n",
    "# query = \"'\" + query_old + \"' AND peerreviewed:T AND publicationdateyear:\"\n",
    "print(query)\n",
    "df1 = load_data(query)\n",
    "df1[\"Domain\"] = query_old"
   ]
  },
  {
   "cell_type": "code",
   "execution_count": null,
   "metadata": {},
   "outputs": [],
   "source": [
    "query_old = \"social network\"\n",
    "query = '(title:\"' + query_old + '\" OR description:\"' + query_old + '\") AND peerreviewed:T AND publicationdateyear:'\n",
    "# query = \"'\" + query_old + \"' AND peerreviewed:T AND publicationdateyear:\"\n",
    "print(query)\n",
    "df2 = load_data(query)\n",
    "df2[\"Domain\"] = query_old"
   ]
  },
  {
   "cell_type": "code",
   "execution_count": null,
   "metadata": {},
   "outputs": [],
   "source": [
    "query_old = \"social network analysis\"\n",
    "query = '(title:\"' + query_old + '\" OR description:\"' + query_old + '\") AND peerreviewed:T AND publicationdateyear:'\n",
    "# query = \"'\" + query_old + \"' AND peerreviewed:T AND publicationdateyear:\"\n",
    "print(query)\n",
    "df3 = load_data(query)\n",
    "df3[\"Domain\"] = query_old"
   ]
  },
  {
   "cell_type": "code",
   "execution_count": null,
   "metadata": {},
   "outputs": [],
   "source": [
    "query_old = \"Add Health\"\n",
    "query = '(title:\"' + query_old + '\" OR description:\"' + query_old + '\") AND peerreviewed:T AND publicationdateyear:'\n",
    "# query = \"'\" + query_old + \"' AND peerreviewed:T AND publicationdateyear:\"\n",
    "print(query)\n",
    "df4 = load_data(query)\n",
    "df4[\"Domain\"] = query_old"
   ]
  },
  {
   "cell_type": "code",
   "execution_count": null,
   "metadata": {},
   "outputs": [],
   "source": [
    "query_old = \"ERGM\"\n",
    "query = '(title:\"' + query_old + '\" OR description:\"' + query_old + '\") AND peerreviewed:T AND publicationdateyear:'\n",
    "# query = \"'\" + query_old + \"' AND peerreviewed:T AND publicationdateyear:\"\n",
    "print(query)\n",
    "df5 = load_data(query)\n",
    "df5[\"Domain\"] = query_old"
   ]
  },
  {
   "cell_type": "code",
   "execution_count": null,
   "metadata": {},
   "outputs": [],
   "source": [
    "query_old = \"SIENA\"\n",
    "query = '(title:\"' + query_old + '\" OR description:\"' + query_old + '\") AND peerreviewed:T AND publicationdateyear:'\n",
    "# query = \"'\" + query_old + \"' AND peerreviewed:T AND publicationdateyear:\"\n",
    "print(query)\n",
    "df6 = load_data(query)\n",
    "df6[\"Domain\"] = query_old"
   ]
  },
  {
   "cell_type": "code",
   "execution_count": null,
   "metadata": {},
   "outputs": [],
   "source": [
    "df_append = (\n",
    "    df2\n",
    "    .append(df4)\n",
    "    .append(df5)\n",
    "    .append(df6)\n",
    ")\n",
    "#df.to_csv(\"jl_output.csv\", encoding='utf-8', index=False)"
   ]
  },
  {
   "cell_type": "code",
   "execution_count": null,
   "metadata": {},
   "outputs": [],
   "source": [
    "alt.Chart(df_append).mark_line().encode(\n",
    "    x=\"Year:Q\",\n",
    "    y=\"Articles:Q\",\n",
    "    tooltip=[\"Articles\"],\n",
    "    color=\"Domain\",\n",
    "    strokeDash=\"Domain\",\n",
    ").properties(\n",
    "    width=800,\n",
    "    height=600\n",
    ")"
   ]
  },
  {
   "cell_type": "markdown",
   "metadata": {},
   "source": [
    "### % of All Corpus Size"
   ]
  },
  {
   "cell_type": "code",
   "execution_count": null,
   "metadata": {},
   "outputs": [],
   "source": [
    "### All Corpus Size ###\n",
    "query_old = \"\"\n",
    "# query = '(title:\"' + query_old + '\" OR description:\"' + query_old + '\") AND peerreviewed:T AND publicationdateyear:'\n",
    "query = \"'\" + query_old + \"' AND peerreviewed:T AND publicationdateyear:\"\n",
    "df_all = load_data(query)\n",
    "df_all.rename(columns={'Articles': 'Total'}, inplace=True)"
   ]
  },
  {
   "cell_type": "code",
   "execution_count": null,
   "metadata": {},
   "outputs": [],
   "source": [
    "df_append = df_append.merge(df_all, on='Year', how='inner')\n",
    "df_append[\"prop_articles\"] = df_append[\"Articles\"]/df_append[\"Total\"]"
   ]
  },
  {
   "cell_type": "code",
   "execution_count": null,
   "metadata": {},
   "outputs": [],
   "source": [
    "alt.Chart(df_append).mark_line().encode(\n",
    "    x=\"Year:Q\",\n",
    "    #y=\"prop_articles:Q\",\n",
    "    y=alt.Y('prop_articles:Q', axis=alt.Axis(format='%', title=\"Proportion of total corpus\")),\n",
    "    tooltip=[\"prop_articles\"],\n",
    "    color=\"Domain\",\n",
    "    strokeDash=\"Domain\",\n",
    ").properties(\n",
    "    width=1280,\n",
    "    height=800\n",
    ")"
   ]
  },
  {
   "cell_type": "code",
   "execution_count": null,
   "metadata": {},
   "outputs": [],
   "source": [
    "df_append.to_csv(\"sna-handbook/sna_handbook_eric.csv\", encoding='utf-8', index=False)"
   ]
  },
  {
   "cell_type": "code",
   "execution_count": null,
   "metadata": {},
   "outputs": [],
   "source": []
  }
 ],
 "metadata": {
  "kernelspec": {
   "display_name": "Python 3 (ipykernel)",
   "language": "python",
   "name": "python3"
  },
  "language_info": {
   "codemirror_mode": {
    "name": "ipython",
    "version": 3
   },
   "file_extension": ".py",
   "mimetype": "text/x-python",
   "name": "python",
   "nbconvert_exporter": "python",
   "pygments_lexer": "ipython3",
   "version": "3.9.9"
  }
 },
 "nbformat": 4,
 "nbformat_minor": 4
}
