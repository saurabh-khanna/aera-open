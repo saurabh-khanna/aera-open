{
 "cells": [
  {
   "cell_type": "code",
   "execution_count": 1,
   "metadata": {},
   "outputs": [],
   "source": [
    "import altair as alt\n",
    "import numpy as np\n",
    "import pandas as pd\n",
    "import requests\n",
    "import yaml"
   ]
  },
  {
   "cell_type": "code",
   "execution_count": 2,
   "metadata": {},
   "outputs": [],
   "source": [
    "url = \"https://api.ies.ed.gov/eric/\"\n",
    "\n",
    "\n",
    "def load_data(query):\n",
    "\n",
    "    df_dict = {}\n",
    "    for year in range(1960, 2022):\n",
    "        query_final = query + str(year)\n",
    "        querystring = {\n",
    "            \"search\": query_final,\n",
    "            \"format\": \"json\",\n",
    "        }\n",
    "        response = requests.request(\"GET\", url, params=querystring)\n",
    "        text = yaml.safe_load(response.text)\n",
    "        df_dict[year] = int(text[\"response\"][\"numFound\"])\n",
    "\n",
    "    df = pd.DataFrame(list(df_dict.items()), columns=[\"Year\", \"Articles\"])\n",
    "    return df"
   ]
  },
  {
   "cell_type": "code",
   "execution_count": 3,
   "metadata": {},
   "outputs": [
    {
     "data": {
      "text/plain": [
       "3"
      ]
     },
     "execution_count": 3,
     "metadata": {},
     "output_type": "execute_result"
    }
   ],
   "source": [
    "# Test individual queries\n",
    "querystring = {\n",
    "#             \"search\": \"'Add Health' AND peerreviewed:T AND publicationdateyear:2018\",\n",
    "            \"search\": '(title:\"Add Health\" OR description:\"Add Health\") AND peerreviewed:T AND publicationdateyear:2021',\n",
    "            \"format\": \"json\",\n",
    "        }\n",
    "response = requests.request(\"GET\", url, params=querystring)\n",
    "text = yaml.safe_load(response.text)\n",
    "int(text[\"response\"][\"numFound\"])"
   ]
  },
  {
   "cell_type": "markdown",
   "metadata": {},
   "source": [
    "### Absolute Counts"
   ]
  },
  {
   "cell_type": "code",
   "execution_count": 4,
   "metadata": {},
   "outputs": [
    {
     "name": "stdout",
     "output_type": "stream",
     "text": [
      "(title:\"network\" OR description:\"network\") AND peerreviewed:T AND publicationdateyear:\n"
     ]
    }
   ],
   "source": [
    "query_old = \"network\"\n",
    "query = '(title:\"' + query_old + '\" OR description:\"' + query_old + '\") AND peerreviewed:T AND publicationdateyear:'\n",
    "# query = \"'\" + query_old + \"' AND peerreviewed:T AND publicationdateyear:\"\n",
    "print(query)\n",
    "df1 = load_data(query)\n",
    "df1[\"Domain\"] = query_old"
   ]
  },
  {
   "cell_type": "code",
   "execution_count": 5,
   "metadata": {},
   "outputs": [
    {
     "name": "stdout",
     "output_type": "stream",
     "text": [
      "(title:\"social network\" OR description:\"social network\") AND peerreviewed:T AND publicationdateyear:\n"
     ]
    }
   ],
   "source": [
    "query_old = \"social network\"\n",
    "query = '(title:\"' + query_old + '\" OR description:\"' + query_old + '\") AND peerreviewed:T AND publicationdateyear:'\n",
    "# query = \"'\" + query_old + \"' AND peerreviewed:T AND publicationdateyear:\"\n",
    "print(query)\n",
    "df2 = load_data(query)\n",
    "df2[\"Domain\"] = query_old"
   ]
  },
  {
   "cell_type": "code",
   "execution_count": 6,
   "metadata": {},
   "outputs": [
    {
     "name": "stdout",
     "output_type": "stream",
     "text": [
      "(title:\"social network analysis\" OR description:\"social network analysis\") AND peerreviewed:T AND publicationdateyear:\n"
     ]
    }
   ],
   "source": [
    "query_old = \"social network analysis\"\n",
    "query = '(title:\"' + query_old + '\" OR description:\"' + query_old + '\") AND peerreviewed:T AND publicationdateyear:'\n",
    "# query = \"'\" + query_old + \"' AND peerreviewed:T AND publicationdateyear:\"\n",
    "print(query)\n",
    "df3 = load_data(query)\n",
    "df3[\"Domain\"] = query_old"
   ]
  },
  {
   "cell_type": "code",
   "execution_count": 7,
   "metadata": {},
   "outputs": [
    {
     "name": "stdout",
     "output_type": "stream",
     "text": [
      "(title:\"Add Health\" OR description:\"Add Health\") AND peerreviewed:T AND publicationdateyear:\n"
     ]
    }
   ],
   "source": [
    "query_old = \"Add Health\"\n",
    "query = '(title:\"' + query_old + '\" OR description:\"' + query_old + '\") AND peerreviewed:T AND publicationdateyear:'\n",
    "# query = \"'\" + query_old + \"' AND peerreviewed:T AND publicationdateyear:\"\n",
    "print(query)\n",
    "df4 = load_data(query)\n",
    "df4[\"Domain\"] = query_old"
   ]
  },
  {
   "cell_type": "code",
   "execution_count": 8,
   "metadata": {},
   "outputs": [
    {
     "name": "stdout",
     "output_type": "stream",
     "text": [
      "(title:\"ERGM\" OR description:\"ERGM\") AND peerreviewed:T AND publicationdateyear:\n"
     ]
    }
   ],
   "source": [
    "query_old = \"ERGM\"\n",
    "query = '(title:\"' + query_old + '\" OR description:\"' + query_old + '\") AND peerreviewed:T AND publicationdateyear:'\n",
    "# query = \"'\" + query_old + \"' AND peerreviewed:T AND publicationdateyear:\"\n",
    "print(query)\n",
    "df5 = load_data(query)\n",
    "df5[\"Domain\"] = query_old"
   ]
  },
  {
   "cell_type": "code",
   "execution_count": 9,
   "metadata": {},
   "outputs": [
    {
     "name": "stdout",
     "output_type": "stream",
     "text": [
      "(title:\"SIENA\" OR description:\"SIENA\") AND peerreviewed:T AND publicationdateyear:\n"
     ]
    }
   ],
   "source": [
    "query_old = \"SIENA\"\n",
    "query = '(title:\"' + query_old + '\" OR description:\"' + query_old + '\") AND peerreviewed:T AND publicationdateyear:'\n",
    "# query = \"'\" + query_old + \"' AND peerreviewed:T AND publicationdateyear:\"\n",
    "print(query)\n",
    "df6 = load_data(query)\n",
    "df6[\"Domain\"] = query_old"
   ]
  },
  {
   "cell_type": "code",
   "execution_count": 10,
   "metadata": {},
   "outputs": [],
   "source": [
    "df_append = (\n",
    "    df2\n",
    "    .append(df4)\n",
    "    .append(df5)\n",
    "    .append(df6)\n",
    ")\n",
    "#df.to_csv(\"jl_output.csv\", encoding='utf-8', index=False)"
   ]
  },
  {
   "cell_type": "code",
   "execution_count": 11,
   "metadata": {},
   "outputs": [
    {
     "data": {
      "text/html": [
       "\n",
       "<div id=\"altair-viz-8995268ae5bd4b80b2b8c9bd2e19fd95\"></div>\n",
       "<script type=\"text/javascript\">\n",
       "  (function(spec, embedOpt){\n",
       "    let outputDiv = document.currentScript.previousElementSibling;\n",
       "    if (outputDiv.id !== \"altair-viz-8995268ae5bd4b80b2b8c9bd2e19fd95\") {\n",
       "      outputDiv = document.getElementById(\"altair-viz-8995268ae5bd4b80b2b8c9bd2e19fd95\");\n",
       "    }\n",
       "    const paths = {\n",
       "      \"vega\": \"https://cdn.jsdelivr.net/npm//vega@5?noext\",\n",
       "      \"vega-lib\": \"https://cdn.jsdelivr.net/npm//vega-lib?noext\",\n",
       "      \"vega-lite\": \"https://cdn.jsdelivr.net/npm//vega-lite@4.8.1?noext\",\n",
       "      \"vega-embed\": \"https://cdn.jsdelivr.net/npm//vega-embed@6?noext\",\n",
       "    };\n",
       "\n",
       "    function loadScript(lib) {\n",
       "      return new Promise(function(resolve, reject) {\n",
       "        var s = document.createElement('script');\n",
       "        s.src = paths[lib];\n",
       "        s.async = true;\n",
       "        s.onload = () => resolve(paths[lib]);\n",
       "        s.onerror = () => reject(`Error loading script: ${paths[lib]}`);\n",
       "        document.getElementsByTagName(\"head\")[0].appendChild(s);\n",
       "      });\n",
       "    }\n",
       "\n",
       "    function showError(err) {\n",
       "      outputDiv.innerHTML = `<div class=\"error\" style=\"color:red;\">${err}</div>`;\n",
       "      throw err;\n",
       "    }\n",
       "\n",
       "    function displayChart(vegaEmbed) {\n",
       "      vegaEmbed(outputDiv, spec, embedOpt)\n",
       "        .catch(err => showError(`Javascript Error: ${err.message}<br>This usually means there's a typo in your chart specification. See the javascript console for the full traceback.`));\n",
       "    }\n",
       "\n",
       "    if(typeof define === \"function\" && define.amd) {\n",
       "      requirejs.config({paths});\n",
       "      require([\"vega-embed\"], displayChart, err => showError(`Error loading script: ${err.message}`));\n",
       "    } else if (typeof vegaEmbed === \"function\") {\n",
       "      displayChart(vegaEmbed);\n",
       "    } else {\n",
       "      loadScript(\"vega\")\n",
       "        .then(() => loadScript(\"vega-lite\"))\n",
       "        .then(() => loadScript(\"vega-embed\"))\n",
       "        .catch(showError)\n",
       "        .then(() => displayChart(vegaEmbed));\n",
       "    }\n",
       "  })({\"config\": {\"view\": {\"continuousWidth\": 400, \"continuousHeight\": 300}}, \"data\": {\"name\": \"data-1ce1a1e22fbebacdd142b47c7af43ff1\"}, \"mark\": \"line\", \"encoding\": {\"color\": {\"type\": \"nominal\", \"field\": \"Domain\"}, \"strokeDash\": {\"type\": \"nominal\", \"field\": \"Domain\"}, \"tooltip\": [{\"type\": \"quantitative\", \"field\": \"Articles\"}], \"x\": {\"type\": \"quantitative\", \"field\": \"Year\"}, \"y\": {\"type\": \"quantitative\", \"field\": \"Articles\"}}, \"height\": 600, \"width\": 800, \"$schema\": \"https://vega.github.io/schema/vega-lite/v4.8.1.json\", \"datasets\": {\"data-1ce1a1e22fbebacdd142b47c7af43ff1\": [{\"Year\": 1960, \"Articles\": 0, \"Domain\": \"social network\"}, {\"Year\": 1961, \"Articles\": 0, \"Domain\": \"social network\"}, {\"Year\": 1962, \"Articles\": 0, \"Domain\": \"social network\"}, {\"Year\": 1963, \"Articles\": 0, \"Domain\": \"social network\"}, {\"Year\": 1964, \"Articles\": 0, \"Domain\": \"social network\"}, {\"Year\": 1965, \"Articles\": 0, \"Domain\": \"social network\"}, {\"Year\": 1966, \"Articles\": 0, \"Domain\": \"social network\"}, {\"Year\": 1967, \"Articles\": 0, \"Domain\": \"social network\"}, {\"Year\": 1968, \"Articles\": 0, \"Domain\": \"social network\"}, {\"Year\": 1969, \"Articles\": 0, \"Domain\": \"social network\"}, {\"Year\": 1970, \"Articles\": 0, \"Domain\": \"social network\"}, {\"Year\": 1971, \"Articles\": 0, \"Domain\": \"social network\"}, {\"Year\": 1972, \"Articles\": 0, \"Domain\": \"social network\"}, {\"Year\": 1973, \"Articles\": 1, \"Domain\": \"social network\"}, {\"Year\": 1974, \"Articles\": 0, \"Domain\": \"social network\"}, {\"Year\": 1975, \"Articles\": 2, \"Domain\": \"social network\"}, {\"Year\": 1976, \"Articles\": 2, \"Domain\": \"social network\"}, {\"Year\": 1977, \"Articles\": 8, \"Domain\": \"social network\"}, {\"Year\": 1978, \"Articles\": 4, \"Domain\": \"social network\"}, {\"Year\": 1979, \"Articles\": 5, \"Domain\": \"social network\"}, {\"Year\": 1980, \"Articles\": 9, \"Domain\": \"social network\"}, {\"Year\": 1981, \"Articles\": 14, \"Domain\": \"social network\"}, {\"Year\": 1982, \"Articles\": 6, \"Domain\": \"social network\"}, {\"Year\": 1983, \"Articles\": 8, \"Domain\": \"social network\"}, {\"Year\": 1984, \"Articles\": 10, \"Domain\": \"social network\"}, {\"Year\": 1985, \"Articles\": 18, \"Domain\": \"social network\"}, {\"Year\": 1986, \"Articles\": 13, \"Domain\": \"social network\"}, {\"Year\": 1987, \"Articles\": 15, \"Domain\": \"social network\"}, {\"Year\": 1988, \"Articles\": 7, \"Domain\": \"social network\"}, {\"Year\": 1989, \"Articles\": 16, \"Domain\": \"social network\"}, {\"Year\": 1990, \"Articles\": 16, \"Domain\": \"social network\"}, {\"Year\": 1991, \"Articles\": 16, \"Domain\": \"social network\"}, {\"Year\": 1992, \"Articles\": 10, \"Domain\": \"social network\"}, {\"Year\": 1993, \"Articles\": 19, \"Domain\": \"social network\"}, {\"Year\": 1994, \"Articles\": 19, \"Domain\": \"social network\"}, {\"Year\": 1995, \"Articles\": 10, \"Domain\": \"social network\"}, {\"Year\": 1996, \"Articles\": 18, \"Domain\": \"social network\"}, {\"Year\": 1997, \"Articles\": 14, \"Domain\": \"social network\"}, {\"Year\": 1998, \"Articles\": 24, \"Domain\": \"social network\"}, {\"Year\": 1999, \"Articles\": 10, \"Domain\": \"social network\"}, {\"Year\": 2000, \"Articles\": 19, \"Domain\": \"social network\"}, {\"Year\": 2001, \"Articles\": 25, \"Domain\": \"social network\"}, {\"Year\": 2002, \"Articles\": 17, \"Domain\": \"social network\"}, {\"Year\": 2003, \"Articles\": 31, \"Domain\": \"social network\"}, {\"Year\": 2004, \"Articles\": 50, \"Domain\": \"social network\"}, {\"Year\": 2005, \"Articles\": 69, \"Domain\": \"social network\"}, {\"Year\": 2006, \"Articles\": 69, \"Domain\": \"social network\"}, {\"Year\": 2007, \"Articles\": 86, \"Domain\": \"social network\"}, {\"Year\": 2008, \"Articles\": 108, \"Domain\": \"social network\"}, {\"Year\": 2009, \"Articles\": 128, \"Domain\": \"social network\"}, {\"Year\": 2010, \"Articles\": 152, \"Domain\": \"social network\"}, {\"Year\": 2011, \"Articles\": 163, \"Domain\": \"social network\"}, {\"Year\": 2012, \"Articles\": 222, \"Domain\": \"social network\"}, {\"Year\": 2013, \"Articles\": 183, \"Domain\": \"social network\"}, {\"Year\": 2014, \"Articles\": 160, \"Domain\": \"social network\"}, {\"Year\": 2015, \"Articles\": 170, \"Domain\": \"social network\"}, {\"Year\": 2016, \"Articles\": 201, \"Domain\": \"social network\"}, {\"Year\": 2017, \"Articles\": 196, \"Domain\": \"social network\"}, {\"Year\": 2018, \"Articles\": 227, \"Domain\": \"social network\"}, {\"Year\": 2019, \"Articles\": 248, \"Domain\": \"social network\"}, {\"Year\": 2020, \"Articles\": 226, \"Domain\": \"social network\"}, {\"Year\": 2021, \"Articles\": 154, \"Domain\": \"social network\"}, {\"Year\": 1960, \"Articles\": 0, \"Domain\": \"Add Health\"}, {\"Year\": 1961, \"Articles\": 0, \"Domain\": \"Add Health\"}, {\"Year\": 1962, \"Articles\": 0, \"Domain\": \"Add Health\"}, {\"Year\": 1963, \"Articles\": 0, \"Domain\": \"Add Health\"}, {\"Year\": 1964, \"Articles\": 0, \"Domain\": \"Add Health\"}, {\"Year\": 1965, \"Articles\": 0, \"Domain\": \"Add Health\"}, {\"Year\": 1966, \"Articles\": 0, \"Domain\": \"Add Health\"}, {\"Year\": 1967, \"Articles\": 0, \"Domain\": \"Add Health\"}, {\"Year\": 1968, \"Articles\": 0, \"Domain\": \"Add Health\"}, {\"Year\": 1969, \"Articles\": 0, \"Domain\": \"Add Health\"}, {\"Year\": 1970, \"Articles\": 0, \"Domain\": \"Add Health\"}, {\"Year\": 1971, \"Articles\": 0, \"Domain\": \"Add Health\"}, {\"Year\": 1972, \"Articles\": 0, \"Domain\": \"Add Health\"}, {\"Year\": 1973, \"Articles\": 0, \"Domain\": \"Add Health\"}, {\"Year\": 1974, \"Articles\": 0, \"Domain\": \"Add Health\"}, {\"Year\": 1975, \"Articles\": 0, \"Domain\": \"Add Health\"}, {\"Year\": 1976, \"Articles\": 0, \"Domain\": \"Add Health\"}, {\"Year\": 1977, \"Articles\": 0, \"Domain\": \"Add Health\"}, {\"Year\": 1978, \"Articles\": 0, \"Domain\": \"Add Health\"}, {\"Year\": 1979, \"Articles\": 0, \"Domain\": \"Add Health\"}, {\"Year\": 1980, \"Articles\": 0, \"Domain\": \"Add Health\"}, {\"Year\": 1981, \"Articles\": 0, \"Domain\": \"Add Health\"}, {\"Year\": 1982, \"Articles\": 0, \"Domain\": \"Add Health\"}, {\"Year\": 1983, \"Articles\": 0, \"Domain\": \"Add Health\"}, {\"Year\": 1984, \"Articles\": 0, \"Domain\": \"Add Health\"}, {\"Year\": 1985, \"Articles\": 0, \"Domain\": \"Add Health\"}, {\"Year\": 1986, \"Articles\": 0, \"Domain\": \"Add Health\"}, {\"Year\": 1987, \"Articles\": 0, \"Domain\": \"Add Health\"}, {\"Year\": 1988, \"Articles\": 0, \"Domain\": \"Add Health\"}, {\"Year\": 1989, \"Articles\": 0, \"Domain\": \"Add Health\"}, {\"Year\": 1990, \"Articles\": 0, \"Domain\": \"Add Health\"}, {\"Year\": 1991, \"Articles\": 0, \"Domain\": \"Add Health\"}, {\"Year\": 1992, \"Articles\": 0, \"Domain\": \"Add Health\"}, {\"Year\": 1993, \"Articles\": 0, \"Domain\": \"Add Health\"}, {\"Year\": 1994, \"Articles\": 0, \"Domain\": \"Add Health\"}, {\"Year\": 1995, \"Articles\": 0, \"Domain\": \"Add Health\"}, {\"Year\": 1996, \"Articles\": 0, \"Domain\": \"Add Health\"}, {\"Year\": 1997, \"Articles\": 0, \"Domain\": \"Add Health\"}, {\"Year\": 1998, \"Articles\": 0, \"Domain\": \"Add Health\"}, {\"Year\": 1999, \"Articles\": 0, \"Domain\": \"Add Health\"}, {\"Year\": 2000, \"Articles\": 0, \"Domain\": \"Add Health\"}, {\"Year\": 2001, \"Articles\": 1, \"Domain\": \"Add Health\"}, {\"Year\": 2002, \"Articles\": 1, \"Domain\": \"Add Health\"}, {\"Year\": 2003, \"Articles\": 1, \"Domain\": \"Add Health\"}, {\"Year\": 2004, \"Articles\": 6, \"Domain\": \"Add Health\"}, {\"Year\": 2005, \"Articles\": 5, \"Domain\": \"Add Health\"}, {\"Year\": 2006, \"Articles\": 11, \"Domain\": \"Add Health\"}, {\"Year\": 2007, \"Articles\": 10, \"Domain\": \"Add Health\"}, {\"Year\": 2008, \"Articles\": 12, \"Domain\": \"Add Health\"}, {\"Year\": 2009, \"Articles\": 7, \"Domain\": \"Add Health\"}, {\"Year\": 2010, \"Articles\": 14, \"Domain\": \"Add Health\"}, {\"Year\": 2011, \"Articles\": 21, \"Domain\": \"Add Health\"}, {\"Year\": 2012, \"Articles\": 19, \"Domain\": \"Add Health\"}, {\"Year\": 2013, \"Articles\": 8, \"Domain\": \"Add Health\"}, {\"Year\": 2014, \"Articles\": 3, \"Domain\": \"Add Health\"}, {\"Year\": 2015, \"Articles\": 2, \"Domain\": \"Add Health\"}, {\"Year\": 2016, \"Articles\": 3, \"Domain\": \"Add Health\"}, {\"Year\": 2017, \"Articles\": 3, \"Domain\": \"Add Health\"}, {\"Year\": 2018, \"Articles\": 2, \"Domain\": \"Add Health\"}, {\"Year\": 2019, \"Articles\": 1, \"Domain\": \"Add Health\"}, {\"Year\": 2020, \"Articles\": 6, \"Domain\": \"Add Health\"}, {\"Year\": 2021, \"Articles\": 3, \"Domain\": \"Add Health\"}, {\"Year\": 1960, \"Articles\": 0, \"Domain\": \"ERGM\"}, {\"Year\": 1961, \"Articles\": 0, \"Domain\": \"ERGM\"}, {\"Year\": 1962, \"Articles\": 0, \"Domain\": \"ERGM\"}, {\"Year\": 1963, \"Articles\": 0, \"Domain\": \"ERGM\"}, {\"Year\": 1964, \"Articles\": 0, \"Domain\": \"ERGM\"}, {\"Year\": 1965, \"Articles\": 0, \"Domain\": \"ERGM\"}, {\"Year\": 1966, \"Articles\": 0, \"Domain\": \"ERGM\"}, {\"Year\": 1967, \"Articles\": 0, \"Domain\": \"ERGM\"}, {\"Year\": 1968, \"Articles\": 0, \"Domain\": \"ERGM\"}, {\"Year\": 1969, \"Articles\": 0, \"Domain\": \"ERGM\"}, {\"Year\": 1970, \"Articles\": 0, \"Domain\": \"ERGM\"}, {\"Year\": 1971, \"Articles\": 0, \"Domain\": \"ERGM\"}, {\"Year\": 1972, \"Articles\": 0, \"Domain\": \"ERGM\"}, {\"Year\": 1973, \"Articles\": 0, \"Domain\": \"ERGM\"}, {\"Year\": 1974, \"Articles\": 0, \"Domain\": \"ERGM\"}, {\"Year\": 1975, \"Articles\": 0, \"Domain\": \"ERGM\"}, {\"Year\": 1976, \"Articles\": 0, \"Domain\": \"ERGM\"}, {\"Year\": 1977, \"Articles\": 0, \"Domain\": \"ERGM\"}, {\"Year\": 1978, \"Articles\": 0, \"Domain\": \"ERGM\"}, {\"Year\": 1979, \"Articles\": 0, \"Domain\": \"ERGM\"}, {\"Year\": 1980, \"Articles\": 0, \"Domain\": \"ERGM\"}, {\"Year\": 1981, \"Articles\": 0, \"Domain\": \"ERGM\"}, {\"Year\": 1982, \"Articles\": 0, \"Domain\": \"ERGM\"}, {\"Year\": 1983, \"Articles\": 0, \"Domain\": \"ERGM\"}, {\"Year\": 1984, \"Articles\": 0, \"Domain\": \"ERGM\"}, {\"Year\": 1985, \"Articles\": 0, \"Domain\": \"ERGM\"}, {\"Year\": 1986, \"Articles\": 0, \"Domain\": \"ERGM\"}, {\"Year\": 1987, \"Articles\": 0, \"Domain\": \"ERGM\"}, {\"Year\": 1988, \"Articles\": 0, \"Domain\": \"ERGM\"}, {\"Year\": 1989, \"Articles\": 0, \"Domain\": \"ERGM\"}, {\"Year\": 1990, \"Articles\": 0, \"Domain\": \"ERGM\"}, {\"Year\": 1991, \"Articles\": 0, \"Domain\": \"ERGM\"}, {\"Year\": 1992, \"Articles\": 0, \"Domain\": \"ERGM\"}, {\"Year\": 1993, \"Articles\": 0, \"Domain\": \"ERGM\"}, {\"Year\": 1994, \"Articles\": 0, \"Domain\": \"ERGM\"}, {\"Year\": 1995, \"Articles\": 0, \"Domain\": \"ERGM\"}, {\"Year\": 1996, \"Articles\": 0, \"Domain\": \"ERGM\"}, {\"Year\": 1997, \"Articles\": 0, \"Domain\": \"ERGM\"}, {\"Year\": 1998, \"Articles\": 0, \"Domain\": \"ERGM\"}, {\"Year\": 1999, \"Articles\": 0, \"Domain\": \"ERGM\"}, {\"Year\": 2000, \"Articles\": 0, \"Domain\": \"ERGM\"}, {\"Year\": 2001, \"Articles\": 0, \"Domain\": \"ERGM\"}, {\"Year\": 2002, \"Articles\": 0, \"Domain\": \"ERGM\"}, {\"Year\": 2003, \"Articles\": 0, \"Domain\": \"ERGM\"}, {\"Year\": 2004, \"Articles\": 0, \"Domain\": \"ERGM\"}, {\"Year\": 2005, \"Articles\": 0, \"Domain\": \"ERGM\"}, {\"Year\": 2006, \"Articles\": 0, \"Domain\": \"ERGM\"}, {\"Year\": 2007, \"Articles\": 0, \"Domain\": \"ERGM\"}, {\"Year\": 2008, \"Articles\": 0, \"Domain\": \"ERGM\"}, {\"Year\": 2009, \"Articles\": 0, \"Domain\": \"ERGM\"}, {\"Year\": 2010, \"Articles\": 0, \"Domain\": \"ERGM\"}, {\"Year\": 2011, \"Articles\": 0, \"Domain\": \"ERGM\"}, {\"Year\": 2012, \"Articles\": 0, \"Domain\": \"ERGM\"}, {\"Year\": 2013, \"Articles\": 0, \"Domain\": \"ERGM\"}, {\"Year\": 2014, \"Articles\": 0, \"Domain\": \"ERGM\"}, {\"Year\": 2015, \"Articles\": 0, \"Domain\": \"ERGM\"}, {\"Year\": 2016, \"Articles\": 1, \"Domain\": \"ERGM\"}, {\"Year\": 2017, \"Articles\": 0, \"Domain\": \"ERGM\"}, {\"Year\": 2018, \"Articles\": 0, \"Domain\": \"ERGM\"}, {\"Year\": 2019, \"Articles\": 2, \"Domain\": \"ERGM\"}, {\"Year\": 2020, \"Articles\": 0, \"Domain\": \"ERGM\"}, {\"Year\": 2021, \"Articles\": 1, \"Domain\": \"ERGM\"}, {\"Year\": 1960, \"Articles\": 0, \"Domain\": \"SIENA\"}, {\"Year\": 1961, \"Articles\": 0, \"Domain\": \"SIENA\"}, {\"Year\": 1962, \"Articles\": 0, \"Domain\": \"SIENA\"}, {\"Year\": 1963, \"Articles\": 0, \"Domain\": \"SIENA\"}, {\"Year\": 1964, \"Articles\": 0, \"Domain\": \"SIENA\"}, {\"Year\": 1965, \"Articles\": 0, \"Domain\": \"SIENA\"}, {\"Year\": 1966, \"Articles\": 0, \"Domain\": \"SIENA\"}, {\"Year\": 1967, \"Articles\": 0, \"Domain\": \"SIENA\"}, {\"Year\": 1968, \"Articles\": 0, \"Domain\": \"SIENA\"}, {\"Year\": 1969, \"Articles\": 0, \"Domain\": \"SIENA\"}, {\"Year\": 1970, \"Articles\": 1, \"Domain\": \"SIENA\"}, {\"Year\": 1971, \"Articles\": 0, \"Domain\": \"SIENA\"}, {\"Year\": 1972, \"Articles\": 0, \"Domain\": \"SIENA\"}, {\"Year\": 1973, \"Articles\": 0, \"Domain\": \"SIENA\"}, {\"Year\": 1974, \"Articles\": 0, \"Domain\": \"SIENA\"}, {\"Year\": 1975, \"Articles\": 0, \"Domain\": \"SIENA\"}, {\"Year\": 1976, \"Articles\": 0, \"Domain\": \"SIENA\"}, {\"Year\": 1977, \"Articles\": 0, \"Domain\": \"SIENA\"}, {\"Year\": 1978, \"Articles\": 0, \"Domain\": \"SIENA\"}, {\"Year\": 1979, \"Articles\": 0, \"Domain\": \"SIENA\"}, {\"Year\": 1980, \"Articles\": 0, \"Domain\": \"SIENA\"}, {\"Year\": 1981, \"Articles\": 0, \"Domain\": \"SIENA\"}, {\"Year\": 1982, \"Articles\": 0, \"Domain\": \"SIENA\"}, {\"Year\": 1983, \"Articles\": 0, \"Domain\": \"SIENA\"}, {\"Year\": 1984, \"Articles\": 0, \"Domain\": \"SIENA\"}, {\"Year\": 1985, \"Articles\": 0, \"Domain\": \"SIENA\"}, {\"Year\": 1986, \"Articles\": 0, \"Domain\": \"SIENA\"}, {\"Year\": 1987, \"Articles\": 0, \"Domain\": \"SIENA\"}, {\"Year\": 1988, \"Articles\": 0, \"Domain\": \"SIENA\"}, {\"Year\": 1989, \"Articles\": 1, \"Domain\": \"SIENA\"}, {\"Year\": 1990, \"Articles\": 0, \"Domain\": \"SIENA\"}, {\"Year\": 1991, \"Articles\": 0, \"Domain\": \"SIENA\"}, {\"Year\": 1992, \"Articles\": 1, \"Domain\": \"SIENA\"}, {\"Year\": 1993, \"Articles\": 0, \"Domain\": \"SIENA\"}, {\"Year\": 1994, \"Articles\": 0, \"Domain\": \"SIENA\"}, {\"Year\": 1995, \"Articles\": 0, \"Domain\": \"SIENA\"}, {\"Year\": 1996, \"Articles\": 0, \"Domain\": \"SIENA\"}, {\"Year\": 1997, \"Articles\": 0, \"Domain\": \"SIENA\"}, {\"Year\": 1998, \"Articles\": 0, \"Domain\": \"SIENA\"}, {\"Year\": 1999, \"Articles\": 0, \"Domain\": \"SIENA\"}, {\"Year\": 2000, \"Articles\": 0, \"Domain\": \"SIENA\"}, {\"Year\": 2001, \"Articles\": 0, \"Domain\": \"SIENA\"}, {\"Year\": 2002, \"Articles\": 0, \"Domain\": \"SIENA\"}, {\"Year\": 2003, \"Articles\": 0, \"Domain\": \"SIENA\"}, {\"Year\": 2004, \"Articles\": 1, \"Domain\": \"SIENA\"}, {\"Year\": 2005, \"Articles\": 0, \"Domain\": \"SIENA\"}, {\"Year\": 2006, \"Articles\": 0, \"Domain\": \"SIENA\"}, {\"Year\": 2007, \"Articles\": 3, \"Domain\": \"SIENA\"}, {\"Year\": 2008, \"Articles\": 0, \"Domain\": \"SIENA\"}, {\"Year\": 2009, \"Articles\": 2, \"Domain\": \"SIENA\"}, {\"Year\": 2010, \"Articles\": 1, \"Domain\": \"SIENA\"}, {\"Year\": 2011, \"Articles\": 3, \"Domain\": \"SIENA\"}, {\"Year\": 2012, \"Articles\": 2, \"Domain\": \"SIENA\"}, {\"Year\": 2013, \"Articles\": 0, \"Domain\": \"SIENA\"}, {\"Year\": 2014, \"Articles\": 1, \"Domain\": \"SIENA\"}, {\"Year\": 2015, \"Articles\": 2, \"Domain\": \"SIENA\"}, {\"Year\": 2016, \"Articles\": 3, \"Domain\": \"SIENA\"}, {\"Year\": 2017, \"Articles\": 2, \"Domain\": \"SIENA\"}, {\"Year\": 2018, \"Articles\": 1, \"Domain\": \"SIENA\"}, {\"Year\": 2019, \"Articles\": 3, \"Domain\": \"SIENA\"}, {\"Year\": 2020, \"Articles\": 1, \"Domain\": \"SIENA\"}, {\"Year\": 2021, \"Articles\": 1, \"Domain\": \"SIENA\"}]}}, {\"mode\": \"vega-lite\"});\n",
       "</script>"
      ],
      "text/plain": [
       "alt.Chart(...)"
      ]
     },
     "execution_count": 11,
     "metadata": {},
     "output_type": "execute_result"
    }
   ],
   "source": [
    "alt.Chart(df_append).mark_line().encode(\n",
    "    x=\"Year:Q\",\n",
    "    y=\"Articles:Q\",\n",
    "    tooltip=[\"Articles\"],\n",
    "    color=\"Domain\",\n",
    "    strokeDash=\"Domain\",\n",
    ").properties(\n",
    "    width=800,\n",
    "    height=600\n",
    ")"
   ]
  },
  {
   "cell_type": "markdown",
   "metadata": {},
   "source": [
    "### % of All Corpus Size"
   ]
  },
  {
   "cell_type": "code",
   "execution_count": null,
   "metadata": {},
   "outputs": [],
   "source": [
    "### All Corpus Size ###\n",
    "query_old = \"\"\n",
    "# query = '(title:\"' + query_old + '\" OR description:\"' + query_old + '\") AND peerreviewed:T AND publicationdateyear:'\n",
    "query = \"'\" + query_old + \"' AND peerreviewed:T AND publicationdateyear:\"\n",
    "df_all = load_data(query)\n",
    "df_all.rename(columns={'Articles': 'Total'}, inplace=True)"
   ]
  },
  {
   "cell_type": "code",
   "execution_count": null,
   "metadata": {},
   "outputs": [],
   "source": [
    "df_append = df_append.merge(df_all, on='Year', how='inner')\n",
    "df_append[\"prop_articles\"] = df_append[\"Articles\"]/df_append[\"Total\"]"
   ]
  },
  {
   "cell_type": "code",
   "execution_count": 17,
   "metadata": {},
   "outputs": [
    {
     "data": {
      "text/html": [
       "\n",
       "<div id=\"altair-viz-e1fe4318a06546c0835303a08cb2a012\"></div>\n",
       "<script type=\"text/javascript\">\n",
       "  (function(spec, embedOpt){\n",
       "    let outputDiv = document.currentScript.previousElementSibling;\n",
       "    if (outputDiv.id !== \"altair-viz-e1fe4318a06546c0835303a08cb2a012\") {\n",
       "      outputDiv = document.getElementById(\"altair-viz-e1fe4318a06546c0835303a08cb2a012\");\n",
       "    }\n",
       "    const paths = {\n",
       "      \"vega\": \"https://cdn.jsdelivr.net/npm//vega@5?noext\",\n",
       "      \"vega-lib\": \"https://cdn.jsdelivr.net/npm//vega-lib?noext\",\n",
       "      \"vega-lite\": \"https://cdn.jsdelivr.net/npm//vega-lite@4.8.1?noext\",\n",
       "      \"vega-embed\": \"https://cdn.jsdelivr.net/npm//vega-embed@6?noext\",\n",
       "    };\n",
       "\n",
       "    function loadScript(lib) {\n",
       "      return new Promise(function(resolve, reject) {\n",
       "        var s = document.createElement('script');\n",
       "        s.src = paths[lib];\n",
       "        s.async = true;\n",
       "        s.onload = () => resolve(paths[lib]);\n",
       "        s.onerror = () => reject(`Error loading script: ${paths[lib]}`);\n",
       "        document.getElementsByTagName(\"head\")[0].appendChild(s);\n",
       "      });\n",
       "    }\n",
       "\n",
       "    function showError(err) {\n",
       "      outputDiv.innerHTML = `<div class=\"error\" style=\"color:red;\">${err}</div>`;\n",
       "      throw err;\n",
       "    }\n",
       "\n",
       "    function displayChart(vegaEmbed) {\n",
       "      vegaEmbed(outputDiv, spec, embedOpt)\n",
       "        .catch(err => showError(`Javascript Error: ${err.message}<br>This usually means there's a typo in your chart specification. See the javascript console for the full traceback.`));\n",
       "    }\n",
       "\n",
       "    if(typeof define === \"function\" && define.amd) {\n",
       "      requirejs.config({paths});\n",
       "      require([\"vega-embed\"], displayChart, err => showError(`Error loading script: ${err.message}`));\n",
       "    } else if (typeof vegaEmbed === \"function\") {\n",
       "      displayChart(vegaEmbed);\n",
       "    } else {\n",
       "      loadScript(\"vega\")\n",
       "        .then(() => loadScript(\"vega-lite\"))\n",
       "        .then(() => loadScript(\"vega-embed\"))\n",
       "        .catch(showError)\n",
       "        .then(() => displayChart(vegaEmbed));\n",
       "    }\n",
       "  })({\"config\": {\"view\": {\"continuousWidth\": 400, \"continuousHeight\": 300}}, \"data\": {\"name\": \"data-724f8a3fa4b940ee30260f3e8867a24a\"}, \"mark\": \"line\", \"encoding\": {\"color\": {\"type\": \"nominal\", \"field\": \"Domain\"}, \"strokeDash\": {\"type\": \"nominal\", \"field\": \"Domain\"}, \"tooltip\": [{\"type\": \"quantitative\", \"field\": \"prop_articles\"}], \"x\": {\"type\": \"quantitative\", \"field\": \"Year\"}, \"y\": {\"type\": \"quantitative\", \"axis\": {\"format\": \"%\", \"title\": \"Proportion of total corpus\"}, \"field\": \"prop_articles\"}}, \"height\": 600, \"width\": 800, \"$schema\": \"https://vega.github.io/schema/vega-lite/v4.8.1.json\", \"datasets\": {\"data-724f8a3fa4b940ee30260f3e8867a24a\": [{\"Year\": 1960, \"Articles\": 0, \"Domain\": \"social network\", \"Total\": 5, \"prop_articles\": 0.0}, {\"Year\": 1960, \"Articles\": 0, \"Domain\": \"Add Health\", \"Total\": 5, \"prop_articles\": 0.0}, {\"Year\": 1960, \"Articles\": 0, \"Domain\": \"ERGM\", \"Total\": 5, \"prop_articles\": 0.0}, {\"Year\": 1960, \"Articles\": 0, \"Domain\": \"SIENA\", \"Total\": 5, \"prop_articles\": 0.0}, {\"Year\": 1961, \"Articles\": 0, \"Domain\": \"social network\", \"Total\": 12, \"prop_articles\": 0.0}, {\"Year\": 1961, \"Articles\": 0, \"Domain\": \"Add Health\", \"Total\": 12, \"prop_articles\": 0.0}, {\"Year\": 1961, \"Articles\": 0, \"Domain\": \"ERGM\", \"Total\": 12, \"prop_articles\": 0.0}, {\"Year\": 1961, \"Articles\": 0, \"Domain\": \"SIENA\", \"Total\": 12, \"prop_articles\": 0.0}, {\"Year\": 1962, \"Articles\": 0, \"Domain\": \"social network\", \"Total\": 10, \"prop_articles\": 0.0}, {\"Year\": 1962, \"Articles\": 0, \"Domain\": \"Add Health\", \"Total\": 10, \"prop_articles\": 0.0}, {\"Year\": 1962, \"Articles\": 0, \"Domain\": \"ERGM\", \"Total\": 10, \"prop_articles\": 0.0}, {\"Year\": 1962, \"Articles\": 0, \"Domain\": \"SIENA\", \"Total\": 10, \"prop_articles\": 0.0}, {\"Year\": 1963, \"Articles\": 0, \"Domain\": \"social network\", \"Total\": 15, \"prop_articles\": 0.0}, {\"Year\": 1963, \"Articles\": 0, \"Domain\": \"Add Health\", \"Total\": 15, \"prop_articles\": 0.0}, {\"Year\": 1963, \"Articles\": 0, \"Domain\": \"ERGM\", \"Total\": 15, \"prop_articles\": 0.0}, {\"Year\": 1963, \"Articles\": 0, \"Domain\": \"SIENA\", \"Total\": 15, \"prop_articles\": 0.0}, {\"Year\": 1964, \"Articles\": 0, \"Domain\": \"social network\", \"Total\": 42, \"prop_articles\": 0.0}, {\"Year\": 1964, \"Articles\": 0, \"Domain\": \"Add Health\", \"Total\": 42, \"prop_articles\": 0.0}, {\"Year\": 1964, \"Articles\": 0, \"Domain\": \"ERGM\", \"Total\": 42, \"prop_articles\": 0.0}, {\"Year\": 1964, \"Articles\": 0, \"Domain\": \"SIENA\", \"Total\": 42, \"prop_articles\": 0.0}, {\"Year\": 1965, \"Articles\": 0, \"Domain\": \"social network\", \"Total\": 39, \"prop_articles\": 0.0}, {\"Year\": 1965, \"Articles\": 0, \"Domain\": \"Add Health\", \"Total\": 39, \"prop_articles\": 0.0}, {\"Year\": 1965, \"Articles\": 0, \"Domain\": \"ERGM\", \"Total\": 39, \"prop_articles\": 0.0}, {\"Year\": 1965, \"Articles\": 0, \"Domain\": \"SIENA\", \"Total\": 39, \"prop_articles\": 0.0}, {\"Year\": 1966, \"Articles\": 0, \"Domain\": \"social network\", \"Total\": 33, \"prop_articles\": 0.0}, {\"Year\": 1966, \"Articles\": 0, \"Domain\": \"Add Health\", \"Total\": 33, \"prop_articles\": 0.0}, {\"Year\": 1966, \"Articles\": 0, \"Domain\": \"ERGM\", \"Total\": 33, \"prop_articles\": 0.0}, {\"Year\": 1966, \"Articles\": 0, \"Domain\": \"SIENA\", \"Total\": 33, \"prop_articles\": 0.0}, {\"Year\": 1967, \"Articles\": 0, \"Domain\": \"social network\", \"Total\": 63, \"prop_articles\": 0.0}, {\"Year\": 1967, \"Articles\": 0, \"Domain\": \"Add Health\", \"Total\": 63, \"prop_articles\": 0.0}, {\"Year\": 1967, \"Articles\": 0, \"Domain\": \"ERGM\", \"Total\": 63, \"prop_articles\": 0.0}, {\"Year\": 1967, \"Articles\": 0, \"Domain\": \"SIENA\", \"Total\": 63, \"prop_articles\": 0.0}, {\"Year\": 1968, \"Articles\": 0, \"Domain\": \"social network\", \"Total\": 183, \"prop_articles\": 0.0}, {\"Year\": 1968, \"Articles\": 0, \"Domain\": \"Add Health\", \"Total\": 183, \"prop_articles\": 0.0}, {\"Year\": 1968, \"Articles\": 0, \"Domain\": \"ERGM\", \"Total\": 183, \"prop_articles\": 0.0}, {\"Year\": 1968, \"Articles\": 0, \"Domain\": \"SIENA\", \"Total\": 183, \"prop_articles\": 0.0}, {\"Year\": 1969, \"Articles\": 0, \"Domain\": \"social network\", \"Total\": 991, \"prop_articles\": 0.0}, {\"Year\": 1969, \"Articles\": 0, \"Domain\": \"Add Health\", \"Total\": 991, \"prop_articles\": 0.0}, {\"Year\": 1969, \"Articles\": 0, \"Domain\": \"ERGM\", \"Total\": 991, \"prop_articles\": 0.0}, {\"Year\": 1969, \"Articles\": 0, \"Domain\": \"SIENA\", \"Total\": 991, \"prop_articles\": 0.0}, {\"Year\": 1970, \"Articles\": 0, \"Domain\": \"social network\", \"Total\": 4105, \"prop_articles\": 0.0}, {\"Year\": 1970, \"Articles\": 0, \"Domain\": \"Add Health\", \"Total\": 4105, \"prop_articles\": 0.0}, {\"Year\": 1970, \"Articles\": 0, \"Domain\": \"ERGM\", \"Total\": 4105, \"prop_articles\": 0.0}, {\"Year\": 1970, \"Articles\": 1, \"Domain\": \"SIENA\", \"Total\": 4105, \"prop_articles\": 0.000243605359317905}, {\"Year\": 1971, \"Articles\": 0, \"Domain\": \"social network\", \"Total\": 11712, \"prop_articles\": 0.0}, {\"Year\": 1971, \"Articles\": 0, \"Domain\": \"Add Health\", \"Total\": 11712, \"prop_articles\": 0.0}, {\"Year\": 1971, \"Articles\": 0, \"Domain\": \"ERGM\", \"Total\": 11712, \"prop_articles\": 0.0}, {\"Year\": 1971, \"Articles\": 0, \"Domain\": \"SIENA\", \"Total\": 11712, \"prop_articles\": 0.0}, {\"Year\": 1972, \"Articles\": 0, \"Domain\": \"social network\", \"Total\": 12062, \"prop_articles\": 0.0}, {\"Year\": 1972, \"Articles\": 0, \"Domain\": \"Add Health\", \"Total\": 12062, \"prop_articles\": 0.0}, {\"Year\": 1972, \"Articles\": 0, \"Domain\": \"ERGM\", \"Total\": 12062, \"prop_articles\": 0.0}, {\"Year\": 1972, \"Articles\": 0, \"Domain\": \"SIENA\", \"Total\": 12062, \"prop_articles\": 0.0}, {\"Year\": 1973, \"Articles\": 1, \"Domain\": \"social network\", \"Total\": 12805, \"prop_articles\": 7.809449433814917e-05}, {\"Year\": 1973, \"Articles\": 0, \"Domain\": \"Add Health\", \"Total\": 12805, \"prop_articles\": 0.0}, {\"Year\": 1973, \"Articles\": 0, \"Domain\": \"ERGM\", \"Total\": 12805, \"prop_articles\": 0.0}, {\"Year\": 1973, \"Articles\": 0, \"Domain\": \"SIENA\", \"Total\": 12805, \"prop_articles\": 0.0}, {\"Year\": 1974, \"Articles\": 0, \"Domain\": \"social network\", \"Total\": 12419, \"prop_articles\": 0.0}, {\"Year\": 1974, \"Articles\": 0, \"Domain\": \"Add Health\", \"Total\": 12419, \"prop_articles\": 0.0}, {\"Year\": 1974, \"Articles\": 0, \"Domain\": \"ERGM\", \"Total\": 12419, \"prop_articles\": 0.0}, {\"Year\": 1974, \"Articles\": 0, \"Domain\": \"SIENA\", \"Total\": 12419, \"prop_articles\": 0.0}, {\"Year\": 1975, \"Articles\": 2, \"Domain\": \"social network\", \"Total\": 14193, \"prop_articles\": 0.00014091453533431975}, {\"Year\": 1975, \"Articles\": 0, \"Domain\": \"Add Health\", \"Total\": 14193, \"prop_articles\": 0.0}, {\"Year\": 1975, \"Articles\": 0, \"Domain\": \"ERGM\", \"Total\": 14193, \"prop_articles\": 0.0}, {\"Year\": 1975, \"Articles\": 0, \"Domain\": \"SIENA\", \"Total\": 14193, \"prop_articles\": 0.0}, {\"Year\": 1976, \"Articles\": 2, \"Domain\": \"social network\", \"Total\": 14007, \"prop_articles\": 0.00014278574998215178}, {\"Year\": 1976, \"Articles\": 0, \"Domain\": \"Add Health\", \"Total\": 14007, \"prop_articles\": 0.0}, {\"Year\": 1976, \"Articles\": 0, \"Domain\": \"ERGM\", \"Total\": 14007, \"prop_articles\": 0.0}, {\"Year\": 1976, \"Articles\": 0, \"Domain\": \"SIENA\", \"Total\": 14007, \"prop_articles\": 0.0}, {\"Year\": 1977, \"Articles\": 8, \"Domain\": \"social network\", \"Total\": 14196, \"prop_articles\": 0.0005635390250774866}, {\"Year\": 1977, \"Articles\": 0, \"Domain\": \"Add Health\", \"Total\": 14196, \"prop_articles\": 0.0}, {\"Year\": 1977, \"Articles\": 0, \"Domain\": \"ERGM\", \"Total\": 14196, \"prop_articles\": 0.0}, {\"Year\": 1977, \"Articles\": 0, \"Domain\": \"SIENA\", \"Total\": 14196, \"prop_articles\": 0.0}, {\"Year\": 1978, \"Articles\": 4, \"Domain\": \"social network\", \"Total\": 15159, \"prop_articles\": 0.0002638696483936935}, {\"Year\": 1978, \"Articles\": 0, \"Domain\": \"Add Health\", \"Total\": 15159, \"prop_articles\": 0.0}, {\"Year\": 1978, \"Articles\": 0, \"Domain\": \"ERGM\", \"Total\": 15159, \"prop_articles\": 0.0}, {\"Year\": 1978, \"Articles\": 0, \"Domain\": \"SIENA\", \"Total\": 15159, \"prop_articles\": 0.0}, {\"Year\": 1979, \"Articles\": 5, \"Domain\": \"social network\", \"Total\": 14949, \"prop_articles\": 0.00033447053314602983}, {\"Year\": 1979, \"Articles\": 0, \"Domain\": \"Add Health\", \"Total\": 14949, \"prop_articles\": 0.0}, {\"Year\": 1979, \"Articles\": 0, \"Domain\": \"ERGM\", \"Total\": 14949, \"prop_articles\": 0.0}, {\"Year\": 1979, \"Articles\": 0, \"Domain\": \"SIENA\", \"Total\": 14949, \"prop_articles\": 0.0}, {\"Year\": 1980, \"Articles\": 9, \"Domain\": \"social network\", \"Total\": 14340, \"prop_articles\": 0.0006276150627615063}, {\"Year\": 1980, \"Articles\": 0, \"Domain\": \"Add Health\", \"Total\": 14340, \"prop_articles\": 0.0}, {\"Year\": 1980, \"Articles\": 0, \"Domain\": \"ERGM\", \"Total\": 14340, \"prop_articles\": 0.0}, {\"Year\": 1980, \"Articles\": 0, \"Domain\": \"SIENA\", \"Total\": 14340, \"prop_articles\": 0.0}, {\"Year\": 1981, \"Articles\": 14, \"Domain\": \"social network\", \"Total\": 12885, \"prop_articles\": 0.001086534730306558}, {\"Year\": 1981, \"Articles\": 0, \"Domain\": \"Add Health\", \"Total\": 12885, \"prop_articles\": 0.0}, {\"Year\": 1981, \"Articles\": 0, \"Domain\": \"ERGM\", \"Total\": 12885, \"prop_articles\": 0.0}, {\"Year\": 1981, \"Articles\": 0, \"Domain\": \"SIENA\", \"Total\": 12885, \"prop_articles\": 0.0}, {\"Year\": 1982, \"Articles\": 6, \"Domain\": \"social network\", \"Total\": 13367, \"prop_articles\": 0.00044886661180519187}, {\"Year\": 1982, \"Articles\": 0, \"Domain\": \"Add Health\", \"Total\": 13367, \"prop_articles\": 0.0}, {\"Year\": 1982, \"Articles\": 0, \"Domain\": \"ERGM\", \"Total\": 13367, \"prop_articles\": 0.0}, {\"Year\": 1982, \"Articles\": 0, \"Domain\": \"SIENA\", \"Total\": 13367, \"prop_articles\": 0.0}, {\"Year\": 1983, \"Articles\": 8, \"Domain\": \"social network\", \"Total\": 13727, \"prop_articles\": 0.0005827930356232243}, {\"Year\": 1983, \"Articles\": 0, \"Domain\": \"Add Health\", \"Total\": 13727, \"prop_articles\": 0.0}, {\"Year\": 1983, \"Articles\": 0, \"Domain\": \"ERGM\", \"Total\": 13727, \"prop_articles\": 0.0}, {\"Year\": 1983, \"Articles\": 0, \"Domain\": \"SIENA\", \"Total\": 13727, \"prop_articles\": 0.0}, {\"Year\": 1984, \"Articles\": 10, \"Domain\": \"social network\", \"Total\": 14081, \"prop_articles\": 0.0007101768340316739}, {\"Year\": 1984, \"Articles\": 0, \"Domain\": \"Add Health\", \"Total\": 14081, \"prop_articles\": 0.0}, {\"Year\": 1984, \"Articles\": 0, \"Domain\": \"ERGM\", \"Total\": 14081, \"prop_articles\": 0.0}, {\"Year\": 1984, \"Articles\": 0, \"Domain\": \"SIENA\", \"Total\": 14081, \"prop_articles\": 0.0}, {\"Year\": 1985, \"Articles\": 18, \"Domain\": \"social network\", \"Total\": 13588, \"prop_articles\": 0.0013246982631733883}, {\"Year\": 1985, \"Articles\": 0, \"Domain\": \"Add Health\", \"Total\": 13588, \"prop_articles\": 0.0}, {\"Year\": 1985, \"Articles\": 0, \"Domain\": \"ERGM\", \"Total\": 13588, \"prop_articles\": 0.0}, {\"Year\": 1985, \"Articles\": 0, \"Domain\": \"SIENA\", \"Total\": 13588, \"prop_articles\": 0.0}, {\"Year\": 1986, \"Articles\": 13, \"Domain\": \"social network\", \"Total\": 14073, \"prop_articles\": 0.000923754707596106}, {\"Year\": 1986, \"Articles\": 0, \"Domain\": \"Add Health\", \"Total\": 14073, \"prop_articles\": 0.0}, {\"Year\": 1986, \"Articles\": 0, \"Domain\": \"ERGM\", \"Total\": 14073, \"prop_articles\": 0.0}, {\"Year\": 1986, \"Articles\": 0, \"Domain\": \"SIENA\", \"Total\": 14073, \"prop_articles\": 0.0}, {\"Year\": 1987, \"Articles\": 15, \"Domain\": \"social network\", \"Total\": 14440, \"prop_articles\": 0.001038781163434903}, {\"Year\": 1987, \"Articles\": 0, \"Domain\": \"Add Health\", \"Total\": 14440, \"prop_articles\": 0.0}, {\"Year\": 1987, \"Articles\": 0, \"Domain\": \"ERGM\", \"Total\": 14440, \"prop_articles\": 0.0}, {\"Year\": 1987, \"Articles\": 0, \"Domain\": \"SIENA\", \"Total\": 14440, \"prop_articles\": 0.0}, {\"Year\": 1988, \"Articles\": 7, \"Domain\": \"social network\", \"Total\": 15452, \"prop_articles\": 0.0004530157908361377}, {\"Year\": 1988, \"Articles\": 0, \"Domain\": \"Add Health\", \"Total\": 15452, \"prop_articles\": 0.0}, {\"Year\": 1988, \"Articles\": 0, \"Domain\": \"ERGM\", \"Total\": 15452, \"prop_articles\": 0.0}, {\"Year\": 1988, \"Articles\": 0, \"Domain\": \"SIENA\", \"Total\": 15452, \"prop_articles\": 0.0}, {\"Year\": 1989, \"Articles\": 16, \"Domain\": \"social network\", \"Total\": 14831, \"prop_articles\": 0.00107882138763401}, {\"Year\": 1989, \"Articles\": 0, \"Domain\": \"Add Health\", \"Total\": 14831, \"prop_articles\": 0.0}, {\"Year\": 1989, \"Articles\": 0, \"Domain\": \"ERGM\", \"Total\": 14831, \"prop_articles\": 0.0}, {\"Year\": 1989, \"Articles\": 1, \"Domain\": \"SIENA\", \"Total\": 14831, \"prop_articles\": 6.742633672712562e-05}, {\"Year\": 1990, \"Articles\": 16, \"Domain\": \"social network\", \"Total\": 14749, \"prop_articles\": 0.0010848193097837142}, {\"Year\": 1990, \"Articles\": 0, \"Domain\": \"Add Health\", \"Total\": 14749, \"prop_articles\": 0.0}, {\"Year\": 1990, \"Articles\": 0, \"Domain\": \"ERGM\", \"Total\": 14749, \"prop_articles\": 0.0}, {\"Year\": 1990, \"Articles\": 0, \"Domain\": \"SIENA\", \"Total\": 14749, \"prop_articles\": 0.0}, {\"Year\": 1991, \"Articles\": 16, \"Domain\": \"social network\", \"Total\": 14401, \"prop_articles\": 0.0011110339559752794}, {\"Year\": 1991, \"Articles\": 0, \"Domain\": \"Add Health\", \"Total\": 14401, \"prop_articles\": 0.0}, {\"Year\": 1991, \"Articles\": 0, \"Domain\": \"ERGM\", \"Total\": 14401, \"prop_articles\": 0.0}, {\"Year\": 1991, \"Articles\": 0, \"Domain\": \"SIENA\", \"Total\": 14401, \"prop_articles\": 0.0}, {\"Year\": 1992, \"Articles\": 10, \"Domain\": \"social network\", \"Total\": 15004, \"prop_articles\": 0.0006664889362836577}, {\"Year\": 1992, \"Articles\": 0, \"Domain\": \"Add Health\", \"Total\": 15004, \"prop_articles\": 0.0}, {\"Year\": 1992, \"Articles\": 0, \"Domain\": \"ERGM\", \"Total\": 15004, \"prop_articles\": 0.0}, {\"Year\": 1992, \"Articles\": 1, \"Domain\": \"SIENA\", \"Total\": 15004, \"prop_articles\": 6.664889362836577e-05}, {\"Year\": 1993, \"Articles\": 19, \"Domain\": \"social network\", \"Total\": 15982, \"prop_articles\": 0.0011888374421223876}, {\"Year\": 1993, \"Articles\": 0, \"Domain\": \"Add Health\", \"Total\": 15982, \"prop_articles\": 0.0}, {\"Year\": 1993, \"Articles\": 0, \"Domain\": \"ERGM\", \"Total\": 15982, \"prop_articles\": 0.0}, {\"Year\": 1993, \"Articles\": 0, \"Domain\": \"SIENA\", \"Total\": 15982, \"prop_articles\": 0.0}, {\"Year\": 1994, \"Articles\": 19, \"Domain\": \"social network\", \"Total\": 16807, \"prop_articles\": 0.0011304813470577736}, {\"Year\": 1994, \"Articles\": 0, \"Domain\": \"Add Health\", \"Total\": 16807, \"prop_articles\": 0.0}, {\"Year\": 1994, \"Articles\": 0, \"Domain\": \"ERGM\", \"Total\": 16807, \"prop_articles\": 0.0}, {\"Year\": 1994, \"Articles\": 0, \"Domain\": \"SIENA\", \"Total\": 16807, \"prop_articles\": 0.0}, {\"Year\": 1995, \"Articles\": 10, \"Domain\": \"social network\", \"Total\": 17525, \"prop_articles\": 0.0005706134094151213}, {\"Year\": 1995, \"Articles\": 0, \"Domain\": \"Add Health\", \"Total\": 17525, \"prop_articles\": 0.0}, {\"Year\": 1995, \"Articles\": 0, \"Domain\": \"ERGM\", \"Total\": 17525, \"prop_articles\": 0.0}, {\"Year\": 1995, \"Articles\": 0, \"Domain\": \"SIENA\", \"Total\": 17525, \"prop_articles\": 0.0}, {\"Year\": 1996, \"Articles\": 18, \"Domain\": \"social network\", \"Total\": 17419, \"prop_articles\": 0.0010333543831448418}, {\"Year\": 1996, \"Articles\": 0, \"Domain\": \"Add Health\", \"Total\": 17419, \"prop_articles\": 0.0}, {\"Year\": 1996, \"Articles\": 0, \"Domain\": \"ERGM\", \"Total\": 17419, \"prop_articles\": 0.0}, {\"Year\": 1996, \"Articles\": 0, \"Domain\": \"SIENA\", \"Total\": 17419, \"prop_articles\": 0.0}, {\"Year\": 1997, \"Articles\": 14, \"Domain\": \"social network\", \"Total\": 17441, \"prop_articles\": 0.0008027062668424976}, {\"Year\": 1997, \"Articles\": 0, \"Domain\": \"Add Health\", \"Total\": 17441, \"prop_articles\": 0.0}, {\"Year\": 1997, \"Articles\": 0, \"Domain\": \"ERGM\", \"Total\": 17441, \"prop_articles\": 0.0}, {\"Year\": 1997, \"Articles\": 0, \"Domain\": \"SIENA\", \"Total\": 17441, \"prop_articles\": 0.0}, {\"Year\": 1998, \"Articles\": 24, \"Domain\": \"social network\", \"Total\": 17387, \"prop_articles\": 0.0013803416345545523}, {\"Year\": 1998, \"Articles\": 0, \"Domain\": \"Add Health\", \"Total\": 17387, \"prop_articles\": 0.0}, {\"Year\": 1998, \"Articles\": 0, \"Domain\": \"ERGM\", \"Total\": 17387, \"prop_articles\": 0.0}, {\"Year\": 1998, \"Articles\": 0, \"Domain\": \"SIENA\", \"Total\": 17387, \"prop_articles\": 0.0}, {\"Year\": 1999, \"Articles\": 10, \"Domain\": \"social network\", \"Total\": 16459, \"prop_articles\": 0.0006075703262652652}, {\"Year\": 1999, \"Articles\": 0, \"Domain\": \"Add Health\", \"Total\": 16459, \"prop_articles\": 0.0}, {\"Year\": 1999, \"Articles\": 0, \"Domain\": \"ERGM\", \"Total\": 16459, \"prop_articles\": 0.0}, {\"Year\": 1999, \"Articles\": 0, \"Domain\": \"SIENA\", \"Total\": 16459, \"prop_articles\": 0.0}, {\"Year\": 2000, \"Articles\": 19, \"Domain\": \"social network\", \"Total\": 16990, \"prop_articles\": 0.001118304885226604}, {\"Year\": 2000, \"Articles\": 0, \"Domain\": \"Add Health\", \"Total\": 16990, \"prop_articles\": 0.0}, {\"Year\": 2000, \"Articles\": 0, \"Domain\": \"ERGM\", \"Total\": 16990, \"prop_articles\": 0.0}, {\"Year\": 2000, \"Articles\": 0, \"Domain\": \"SIENA\", \"Total\": 16990, \"prop_articles\": 0.0}, {\"Year\": 2001, \"Articles\": 25, \"Domain\": \"social network\", \"Total\": 16351, \"prop_articles\": 0.00152895847348786}, {\"Year\": 2001, \"Articles\": 1, \"Domain\": \"Add Health\", \"Total\": 16351, \"prop_articles\": 6.115833893951441e-05}, {\"Year\": 2001, \"Articles\": 0, \"Domain\": \"ERGM\", \"Total\": 16351, \"prop_articles\": 0.0}, {\"Year\": 2001, \"Articles\": 0, \"Domain\": \"SIENA\", \"Total\": 16351, \"prop_articles\": 0.0}, {\"Year\": 2002, \"Articles\": 17, \"Domain\": \"social network\", \"Total\": 17194, \"prop_articles\": 0.0009887169943003373}, {\"Year\": 2002, \"Articles\": 1, \"Domain\": \"Add Health\", \"Total\": 17194, \"prop_articles\": 5.815982319413749e-05}, {\"Year\": 2002, \"Articles\": 0, \"Domain\": \"ERGM\", \"Total\": 17194, \"prop_articles\": 0.0}, {\"Year\": 2002, \"Articles\": 0, \"Domain\": \"SIENA\", \"Total\": 17194, \"prop_articles\": 0.0}, {\"Year\": 2003, \"Articles\": 31, \"Domain\": \"social network\", \"Total\": 15110, \"prop_articles\": 0.0020516214427531436}, {\"Year\": 2003, \"Articles\": 1, \"Domain\": \"Add Health\", \"Total\": 15110, \"prop_articles\": 6.618133686300464e-05}, {\"Year\": 2003, \"Articles\": 0, \"Domain\": \"ERGM\", \"Total\": 15110, \"prop_articles\": 0.0}, {\"Year\": 2003, \"Articles\": 0, \"Domain\": \"SIENA\", \"Total\": 15110, \"prop_articles\": 0.0}, {\"Year\": 2004, \"Articles\": 50, \"Domain\": \"social network\", \"Total\": 23676, \"prop_articles\": 0.0021118432167595877}, {\"Year\": 2004, \"Articles\": 6, \"Domain\": \"Add Health\", \"Total\": 23676, \"prop_articles\": 0.00025342118601115053}, {\"Year\": 2004, \"Articles\": 0, \"Domain\": \"ERGM\", \"Total\": 23676, \"prop_articles\": 0.0}, {\"Year\": 2004, \"Articles\": 1, \"Domain\": \"SIENA\", \"Total\": 23676, \"prop_articles\": 4.223686433519176e-05}, {\"Year\": 2005, \"Articles\": 69, \"Domain\": \"social network\", \"Total\": 24795, \"prop_articles\": 0.0027828191167574108}, {\"Year\": 2005, \"Articles\": 5, \"Domain\": \"Add Health\", \"Total\": 24795, \"prop_articles\": 0.00020165355918531962}, {\"Year\": 2005, \"Articles\": 0, \"Domain\": \"ERGM\", \"Total\": 24795, \"prop_articles\": 0.0}, {\"Year\": 2005, \"Articles\": 0, \"Domain\": \"SIENA\", \"Total\": 24795, \"prop_articles\": 0.0}, {\"Year\": 2006, \"Articles\": 69, \"Domain\": \"social network\", \"Total\": 25768, \"prop_articles\": 0.002677739832350202}, {\"Year\": 2006, \"Articles\": 11, \"Domain\": \"Add Health\", \"Total\": 25768, \"prop_articles\": 0.00042688606022974233}, {\"Year\": 2006, \"Articles\": 0, \"Domain\": \"ERGM\", \"Total\": 25768, \"prop_articles\": 0.0}, {\"Year\": 2006, \"Articles\": 0, \"Domain\": \"SIENA\", \"Total\": 25768, \"prop_articles\": 0.0}, {\"Year\": 2007, \"Articles\": 86, \"Domain\": \"social network\", \"Total\": 28197, \"prop_articles\": 0.003049969854949108}, {\"Year\": 2007, \"Articles\": 10, \"Domain\": \"Add Health\", \"Total\": 28197, \"prop_articles\": 0.00035464765755222185}, {\"Year\": 2007, \"Articles\": 0, \"Domain\": \"ERGM\", \"Total\": 28197, \"prop_articles\": 0.0}, {\"Year\": 2007, \"Articles\": 3, \"Domain\": \"SIENA\", \"Total\": 28197, \"prop_articles\": 0.00010639429726566656}, {\"Year\": 2008, \"Articles\": 108, \"Domain\": \"social network\", \"Total\": 30309, \"prop_articles\": 0.0035632980302880333}, {\"Year\": 2008, \"Articles\": 12, \"Domain\": \"Add Health\", \"Total\": 30309, \"prop_articles\": 0.00039592200336533703}, {\"Year\": 2008, \"Articles\": 0, \"Domain\": \"ERGM\", \"Total\": 30309, \"prop_articles\": 0.0}, {\"Year\": 2008, \"Articles\": 0, \"Domain\": \"SIENA\", \"Total\": 30309, \"prop_articles\": 0.0}, {\"Year\": 2009, \"Articles\": 128, \"Domain\": \"social network\", \"Total\": 32317, \"prop_articles\": 0.003960763684747966}, {\"Year\": 2009, \"Articles\": 7, \"Domain\": \"Add Health\", \"Total\": 32317, \"prop_articles\": 0.00021660426400965435}, {\"Year\": 2009, \"Articles\": 0, \"Domain\": \"ERGM\", \"Total\": 32317, \"prop_articles\": 0.0}, {\"Year\": 2009, \"Articles\": 2, \"Domain\": \"SIENA\", \"Total\": 32317, \"prop_articles\": 6.188693257418696e-05}, {\"Year\": 2010, \"Articles\": 152, \"Domain\": \"social network\", \"Total\": 33362, \"prop_articles\": 0.0045560817696780765}, {\"Year\": 2010, \"Articles\": 14, \"Domain\": \"Add Health\", \"Total\": 33362, \"prop_articles\": 0.000419639110365086}, {\"Year\": 2010, \"Articles\": 0, \"Domain\": \"ERGM\", \"Total\": 33362, \"prop_articles\": 0.0}, {\"Year\": 2010, \"Articles\": 1, \"Domain\": \"SIENA\", \"Total\": 33362, \"prop_articles\": 2.9974222168934716e-05}, {\"Year\": 2011, \"Articles\": 163, \"Domain\": \"social network\", \"Total\": 35962, \"prop_articles\": 0.004532562148934987}, {\"Year\": 2011, \"Articles\": 21, \"Domain\": \"Add Health\", \"Total\": 35962, \"prop_articles\": 0.0005839497247094155}, {\"Year\": 2011, \"Articles\": 0, \"Domain\": \"ERGM\", \"Total\": 35962, \"prop_articles\": 0.0}, {\"Year\": 2011, \"Articles\": 3, \"Domain\": \"SIENA\", \"Total\": 35962, \"prop_articles\": 8.342138924420222e-05}, {\"Year\": 2012, \"Articles\": 222, \"Domain\": \"social network\", \"Total\": 37369, \"prop_articles\": 0.00594075303058685}, {\"Year\": 2012, \"Articles\": 19, \"Domain\": \"Add Health\", \"Total\": 37369, \"prop_articles\": 0.0005084428269421178}, {\"Year\": 2012, \"Articles\": 0, \"Domain\": \"ERGM\", \"Total\": 37369, \"prop_articles\": 0.0}, {\"Year\": 2012, \"Articles\": 2, \"Domain\": \"SIENA\", \"Total\": 37369, \"prop_articles\": 5.35202975728545e-05}, {\"Year\": 2013, \"Articles\": 183, \"Domain\": \"social network\", \"Total\": 32634, \"prop_articles\": 0.0056076484647913215}, {\"Year\": 2013, \"Articles\": 8, \"Domain\": \"Add Health\", \"Total\": 32634, \"prop_articles\": 0.00024514310228595945}, {\"Year\": 2013, \"Articles\": 0, \"Domain\": \"ERGM\", \"Total\": 32634, \"prop_articles\": 0.0}, {\"Year\": 2013, \"Articles\": 0, \"Domain\": \"SIENA\", \"Total\": 32634, \"prop_articles\": 0.0}, {\"Year\": 2014, \"Articles\": 160, \"Domain\": \"social network\", \"Total\": 28832, \"prop_articles\": 0.005549389567147614}, {\"Year\": 2014, \"Articles\": 3, \"Domain\": \"Add Health\", \"Total\": 28832, \"prop_articles\": 0.00010405105438401775}, {\"Year\": 2014, \"Articles\": 0, \"Domain\": \"ERGM\", \"Total\": 28832, \"prop_articles\": 0.0}, {\"Year\": 2014, \"Articles\": 1, \"Domain\": \"SIENA\", \"Total\": 28832, \"prop_articles\": 3.468368479467259e-05}, {\"Year\": 2015, \"Articles\": 170, \"Domain\": \"social network\", \"Total\": 31485, \"prop_articles\": 0.0053993965380339844}, {\"Year\": 2015, \"Articles\": 2, \"Domain\": \"Add Health\", \"Total\": 31485, \"prop_articles\": 6.352231221216452e-05}, {\"Year\": 2015, \"Articles\": 0, \"Domain\": \"ERGM\", \"Total\": 31485, \"prop_articles\": 0.0}, {\"Year\": 2015, \"Articles\": 2, \"Domain\": \"SIENA\", \"Total\": 31485, \"prop_articles\": 6.352231221216452e-05}, {\"Year\": 2016, \"Articles\": 201, \"Domain\": \"social network\", \"Total\": 35366, \"prop_articles\": 0.00568342475824238}, {\"Year\": 2016, \"Articles\": 3, \"Domain\": \"Add Health\", \"Total\": 35366, \"prop_articles\": 8.482723519764746e-05}, {\"Year\": 2016, \"Articles\": 1, \"Domain\": \"ERGM\", \"Total\": 35366, \"prop_articles\": 2.8275745065882488e-05}, {\"Year\": 2016, \"Articles\": 3, \"Domain\": \"SIENA\", \"Total\": 35366, \"prop_articles\": 8.482723519764746e-05}, {\"Year\": 2017, \"Articles\": 196, \"Domain\": \"social network\", \"Total\": 35417, \"prop_articles\": 0.00553406556173589}, {\"Year\": 2017, \"Articles\": 3, \"Domain\": \"Add Health\", \"Total\": 35417, \"prop_articles\": 8.470508512861055e-05}, {\"Year\": 2017, \"Articles\": 0, \"Domain\": \"ERGM\", \"Total\": 35417, \"prop_articles\": 0.0}, {\"Year\": 2017, \"Articles\": 2, \"Domain\": \"SIENA\", \"Total\": 35417, \"prop_articles\": 5.6470056752407034e-05}, {\"Year\": 2018, \"Articles\": 227, \"Domain\": \"social network\", \"Total\": 35886, \"prop_articles\": 0.006325586579724683}, {\"Year\": 2018, \"Articles\": 2, \"Domain\": \"Add Health\", \"Total\": 35886, \"prop_articles\": 5.5732040349997216e-05}, {\"Year\": 2018, \"Articles\": 0, \"Domain\": \"ERGM\", \"Total\": 35886, \"prop_articles\": 0.0}, {\"Year\": 2018, \"Articles\": 1, \"Domain\": \"SIENA\", \"Total\": 35886, \"prop_articles\": 2.7866020174998608e-05}, {\"Year\": 2019, \"Articles\": 248, \"Domain\": \"social network\", \"Total\": 37217, \"prop_articles\": 0.0066636214633097775}, {\"Year\": 2019, \"Articles\": 1, \"Domain\": \"Add Health\", \"Total\": 37217, \"prop_articles\": 2.686944138431362e-05}, {\"Year\": 2019, \"Articles\": 2, \"Domain\": \"ERGM\", \"Total\": 37217, \"prop_articles\": 5.373888276862724e-05}, {\"Year\": 2019, \"Articles\": 3, \"Domain\": \"SIENA\", \"Total\": 37217, \"prop_articles\": 8.060832415294086e-05}, {\"Year\": 2020, \"Articles\": 226, \"Domain\": \"social network\", \"Total\": 39568, \"prop_articles\": 0.00571168621107966}, {\"Year\": 2020, \"Articles\": 6, \"Domain\": \"Add Health\", \"Total\": 39568, \"prop_articles\": 0.000151637687019814}, {\"Year\": 2020, \"Articles\": 0, \"Domain\": \"ERGM\", \"Total\": 39568, \"prop_articles\": 0.0}, {\"Year\": 2020, \"Articles\": 1, \"Domain\": \"SIENA\", \"Total\": 39568, \"prop_articles\": 2.5272947836635664e-05}, {\"Year\": 2021, \"Articles\": 154, \"Domain\": \"social network\", \"Total\": 32032, \"prop_articles\": 0.004807692307692308}, {\"Year\": 2021, \"Articles\": 3, \"Domain\": \"Add Health\", \"Total\": 32032, \"prop_articles\": 9.365634365634366e-05}, {\"Year\": 2021, \"Articles\": 1, \"Domain\": \"ERGM\", \"Total\": 32032, \"prop_articles\": 3.121878121878122e-05}, {\"Year\": 2021, \"Articles\": 1, \"Domain\": \"SIENA\", \"Total\": 32032, \"prop_articles\": 3.121878121878122e-05}]}}, {\"mode\": \"vega-lite\"});\n",
       "</script>"
      ],
      "text/plain": [
       "alt.Chart(...)"
      ]
     },
     "execution_count": 17,
     "metadata": {},
     "output_type": "execute_result"
    }
   ],
   "source": [
    "alt.Chart(df_append).mark_line().encode(\n",
    "    x=\"Year:Q\",\n",
    "    #y=\"prop_articles:Q\",\n",
    "    y=alt.Y('prop_articles:Q', axis=alt.Axis(format='%', title=\"Proportion of total corpus\")),\n",
    "    tooltip=[\"prop_articles\"],\n",
    "    color=\"Domain\",\n",
    "    strokeDash=\"Domain\",\n",
    ").properties(\n",
    "    width=800,\n",
    "    height=600\n",
    ")"
   ]
  },
  {
   "cell_type": "code",
   "execution_count": null,
   "metadata": {},
   "outputs": [],
   "source": []
  }
 ],
 "metadata": {
  "kernelspec": {
   "display_name": "Python 3 (ipykernel)",
   "language": "python",
   "name": "python3"
  },
  "language_info": {
   "codemirror_mode": {
    "name": "ipython",
    "version": 3
   },
   "file_extension": ".py",
   "mimetype": "text/x-python",
   "name": "python",
   "nbconvert_exporter": "python",
   "pygments_lexer": "ipython3",
   "version": "3.9.9"
  }
 },
 "nbformat": 4,
 "nbformat_minor": 4
}
